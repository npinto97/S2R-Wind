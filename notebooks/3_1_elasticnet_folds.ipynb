{
 "cells": [
  {
   "cell_type": "markdown",
   "id": "2393543a",
   "metadata": {},
   "source": [
    "### ElasticNet – Fold-Based Evaluation with Separate Train and Test Sets\n",
    "\n",
    "* **Dataset:** Wind turbine power generation data split into 8 temporal folds using a sliding window approach.\n",
    "* **Per Fold Workflow:**\n",
    "\n",
    "  * Use a specific **percentage of the training set** (e.g., 10%, 20%, 70%, 100%) for model training.\n",
    "  * Evaluate on the **separate, fixed test set** corresponding to the fold.\n",
    "* **ElasticNet Model:**\n",
    "\n",
    "  * Hyperparameters (`alpha`, `l1_ratio`) optimized via `GridSearchCV`.\n",
    "  * Data is preprocessed with `StandardScaler`.\n",
    "\n",
    "This setup ensures a **fair comparison** between ElasticNet and semi-supervised methods (such as S2RMS) by assessing performance **under limited supervision** using the **same folds, splits, and evaluation criteria**.\n"
   ]
  },
  {
   "cell_type": "code",
   "execution_count": 1,
   "id": "e8598cda",
   "metadata": {},
   "outputs": [],
   "source": [
    "import os\n",
    "import pandas as pd\n",
    "import numpy as np\n",
    "import matplotlib.pyplot as plt\n",
    "import seaborn as sns\n",
    "import joblib\n",
    "\n",
    "from sklearn.linear_model import ElasticNet\n",
    "from sklearn.pipeline import Pipeline\n",
    "from sklearn.preprocessing import StandardScaler\n",
    "from sklearn.model_selection import GridSearchCV\n",
    "from sklearn.metrics import root_mean_squared_error, mean_absolute_error, r2_score\n",
    "from scipy.io import arff\n",
    "\n",
    "sns.set_theme(style=\"whitegrid\")\n"
   ]
  },
  {
   "cell_type": "code",
   "execution_count": 2,
   "id": "3693d30a",
   "metadata": {},
   "outputs": [],
   "source": [
    "DATA_DIR = \"../data/swdpf/arff_scaled_folds\"\n",
    "RESULTS_DIR = \"../results/elasticnet_folds\"\n",
    "os.makedirs(RESULTS_DIR, exist_ok=True)\n",
    "\n",
    "SCALES = [100]\n",
    "FOLDS = range(8)\n",
    "TARGET_COL = \"patv_target_1\"\n",
    "SEED = 42\n"
   ]
  },
  {
   "cell_type": "code",
   "execution_count": 3,
   "id": "767fa984",
   "metadata": {},
   "outputs": [],
   "source": [
    "def evaluate_elasticnet_on_fold(train_df, test_df, scale, fold):\n",
    "    scale_ratio = scale / 100 if scale > 1 else scale\n",
    "\n",
    "    # Shuffle train_df e prendo solo la percentuale indicata per il training\n",
    "    train_df = train_df.sample(frac=1.0, random_state=SEED+fold).reset_index(drop=True)\n",
    "    n_train = len(train_df)\n",
    "    n_labeled = int(n_train * scale_ratio)\n",
    "\n",
    "    labeled = train_df.iloc[:n_labeled]\n",
    "\n",
    "    X_train = labeled.drop(columns=[TARGET_COL])\n",
    "    y_train = labeled[TARGET_COL]\n",
    "\n",
    "    X_test = test_df.drop(columns=[TARGET_COL])\n",
    "    y_test = test_df[TARGET_COL]\n",
    "\n",
    "    pipeline = Pipeline([\n",
    "        (\"scaler\", StandardScaler()),\n",
    "        (\"elasticnet\", ElasticNet(max_iter=10000))\n",
    "    ])\n",
    "\n",
    "    param_grid = {\n",
    "        \"elasticnet__alpha\": [0.1, 1.0, 10.0],\n",
    "        \"elasticnet__l1_ratio\": [0.1, 0.5, 0.9]\n",
    "    }\n",
    "\n",
    "    grid_search = GridSearchCV(\n",
    "        pipeline,\n",
    "        param_grid,\n",
    "        scoring=\"neg_mean_absolute_error\",\n",
    "        cv=5,\n",
    "        n_jobs=-1\n",
    "    )\n",
    "    grid_search.fit(X_train, y_train)\n",
    "    y_pred = grid_search.predict(X_test)\n",
    "\n",
    "    # Carico scaler y per denormalizzare\n",
    "    scaler_y_path = os.path.join(DATA_DIR, f\"scaler_y_fold{fold}.joblib\")\n",
    "    scaler_y = joblib.load(scaler_y_path)\n",
    "\n",
    "    y_test_denorm = scaler_y.inverse_transform(y_test.values.reshape(-1, 1)).ravel()\n",
    "    y_pred_denorm = scaler_y.inverse_transform(y_pred.reshape(-1, 1)).ravel()\n",
    "\n",
    "    rmse = root_mean_squared_error(y_test_denorm, y_pred_denorm)\n",
    "    mae = mean_absolute_error(y_test_denorm, y_pred_denorm)\n",
    "    rse = np.sum((y_test_denorm - y_pred_denorm) ** 2) / np.sum((y_test_denorm - np.mean(y_test_denorm)) ** 2)\n",
    "    r2 = r2_score(y_test_denorm, y_pred_denorm)\n",
    "\n",
    "    return {\n",
    "        \"fold\": fold,\n",
    "        \"scale\": scale,\n",
    "        \"rmse\": rmse,\n",
    "        \"mae\": mae,\n",
    "        \"rse\": rse,\n",
    "        \"r2\": r2,\n",
    "        \"n_labeled\": n_labeled,\n",
    "        \"n_train\": n_train,\n",
    "        \"n_test\": len(test_df),\n",
    "        \"best_params\": grid_search.best_params_\n",
    "    }"
   ]
  },
  {
   "cell_type": "code",
   "execution_count": 4,
   "id": "8c835b9e",
   "metadata": {},
   "outputs": [
    {
     "name": "stdout",
     "output_type": "stream",
     "text": [
      "Fold 0 | Scale 100%\n",
      "Fold 1 | Scale 100%\n",
      "Fold 2 | Scale 100%\n",
      "Fold 3 | Scale 100%\n",
      "Fold 4 | Scale 100%\n",
      "Fold 5 | Scale 100%\n",
      "Fold 6 | Scale 100%\n",
      "Fold 7 | Scale 100%\n"
     ]
    }
   ],
   "source": [
    "results = []\n",
    "\n",
    "for fold in FOLDS:\n",
    "    train_arff_path = os.path.join(DATA_DIR, f\"fold{fold}_train.arff\")\n",
    "    test_arff_path = os.path.join(DATA_DIR, f\"fold{fold}_test.arff\")\n",
    "\n",
    "    train_data, _ = arff.loadarff(train_arff_path)\n",
    "    train_df = pd.DataFrame(train_data)\n",
    "\n",
    "    test_data, _ = arff.loadarff(test_arff_path)\n",
    "    test_df = pd.DataFrame(test_data)\n",
    "\n",
    "    for scale in SCALES:\n",
    "        print(f\"Fold {fold} | Scale {scale}%\")\n",
    "        metrics = evaluate_elasticnet_on_fold(train_df, test_df, scale, fold)\n",
    "        results.append(metrics)"
   ]
  },
  {
   "cell_type": "markdown",
   "id": "2ce32de4",
   "metadata": {},
   "source": [
    "### **Evaluation Metrics**\n",
    "\n",
    "Each model is evaluated using the following metrics:\n",
    "\n",
    "| Metric                                | Description                                                  |\n",
    "| ------------------------------------- | ------------------------------------------------------------ |\n",
    "| **RMSE** (Root Mean Squared Error)    | Measures prediction error magnitude (sensitive to outliers). |\n",
    "| **MAE** (Mean Absolute Error)         | Measures average absolute prediction error.                  |\n",
    "| **RSE** (Relative Squared Error)      | Ratio of model error to the variance of the target.          |\n",
    "| **R²** (Coefficient of Determination) | Measures the proportion of variance explained by the model.  |"
   ]
  },
  {
   "cell_type": "code",
   "execution_count": 5,
   "id": "12ce7108",
   "metadata": {},
   "outputs": [
    {
     "name": "stdout",
     "output_type": "stream",
     "text": [
      "Saved to: ../results/elasticnet_folds\\elasticnet_fold_results.csv\n"
     ]
    },
    {
     "data": {
      "application/vnd.microsoft.datawrangler.viewer.v0+json": {
       "columns": [
        {
         "name": "index",
         "rawType": "int64",
         "type": "integer"
        },
        {
         "name": "fold",
         "rawType": "int64",
         "type": "integer"
        },
        {
         "name": "scale",
         "rawType": "int64",
         "type": "integer"
        },
        {
         "name": "rmse",
         "rawType": "float64",
         "type": "float"
        },
        {
         "name": "mae",
         "rawType": "float64",
         "type": "float"
        },
        {
         "name": "rse",
         "rawType": "float64",
         "type": "float"
        },
        {
         "name": "r2",
         "rawType": "float64",
         "type": "float"
        },
        {
         "name": "n_labeled",
         "rawType": "int64",
         "type": "integer"
        },
        {
         "name": "n_train",
         "rawType": "int64",
         "type": "integer"
        },
        {
         "name": "n_test",
         "rawType": "int64",
         "type": "integer"
        },
        {
         "name": "best_params",
         "rawType": "object",
         "type": "unknown"
        }
       ],
       "ref": "5fbe91fc-eefc-4139-a321-75ae080701a4",
       "rows": [
        [
         "0",
         "0",
         "100",
         "160.90662940461542",
         "105.30719030341103",
         "0.11963987527495196",
         "0.8803601247250481",
         "23040",
         "23040",
         "10080",
         "{'elasticnet__alpha': 0.1, 'elasticnet__l1_ratio': 0.1}"
        ],
        [
         "1",
         "1",
         "100",
         "118.33971204531358",
         "69.85539215384624",
         "0.1514127707115647",
         "0.8485872292884353",
         "23040",
         "23040",
         "10080",
         "{'elasticnet__alpha': 0.1, 'elasticnet__l1_ratio': 0.1}"
        ],
        [
         "2",
         "2",
         "100",
         "69.58229675496696",
         "35.054478809162475",
         "0.06547792169257752",
         "0.9345220783074225",
         "23040",
         "23040",
         "10080",
         "{'elasticnet__alpha': 0.1, 'elasticnet__l1_ratio': 0.1}"
        ],
        [
         "3",
         "3",
         "100",
         "96.38804156224488",
         "61.09344669583726",
         "0.03720321393741527",
         "0.9627967860625848",
         "23040",
         "23040",
         "10080",
         "{'elasticnet__alpha': 0.1, 'elasticnet__l1_ratio': 0.1}"
        ],
        [
         "4",
         "4",
         "100",
         "116.75265536388642",
         "83.54281849151381",
         "0.07098731677155731",
         "0.9290126832284427",
         "23040",
         "23040",
         "10080",
         "{'elasticnet__alpha': 0.1, 'elasticnet__l1_ratio': 0.1}"
        ],
        [
         "5",
         "5",
         "100",
         "138.1978209154286",
         "88.06124133130626",
         "0.1239178221800217",
         "0.8760821778199783",
         "23040",
         "23040",
         "10080",
         "{'elasticnet__alpha': 0.1, 'elasticnet__l1_ratio': 0.1}"
        ],
        [
         "6",
         "6",
         "100",
         "124.92678820294437",
         "81.86486654026949",
         "0.08289529373444834",
         "0.9171047062655516",
         "23040",
         "23040",
         "10080",
         "{'elasticnet__alpha': 0.1, 'elasticnet__l1_ratio': 0.1}"
        ],
        [
         "7",
         "7",
         "100",
         "143.77545194176963",
         "94.23528650606882",
         "0.15361007549815833",
         "0.8463899245018417",
         "23040",
         "23040",
         "10080",
         "{'elasticnet__alpha': 0.1, 'elasticnet__l1_ratio': 0.1}"
        ]
       ],
       "shape": {
        "columns": 10,
        "rows": 8
       }
      },
      "text/html": [
       "<div>\n",
       "<style scoped>\n",
       "    .dataframe tbody tr th:only-of-type {\n",
       "        vertical-align: middle;\n",
       "    }\n",
       "\n",
       "    .dataframe tbody tr th {\n",
       "        vertical-align: top;\n",
       "    }\n",
       "\n",
       "    .dataframe thead th {\n",
       "        text-align: right;\n",
       "    }\n",
       "</style>\n",
       "<table border=\"1\" class=\"dataframe\">\n",
       "  <thead>\n",
       "    <tr style=\"text-align: right;\">\n",
       "      <th></th>\n",
       "      <th>fold</th>\n",
       "      <th>scale</th>\n",
       "      <th>rmse</th>\n",
       "      <th>mae</th>\n",
       "      <th>rse</th>\n",
       "      <th>r2</th>\n",
       "      <th>n_labeled</th>\n",
       "      <th>n_train</th>\n",
       "      <th>n_test</th>\n",
       "      <th>best_params</th>\n",
       "    </tr>\n",
       "  </thead>\n",
       "  <tbody>\n",
       "    <tr>\n",
       "      <th>0</th>\n",
       "      <td>0</td>\n",
       "      <td>100</td>\n",
       "      <td>160.906629</td>\n",
       "      <td>105.307190</td>\n",
       "      <td>0.119640</td>\n",
       "      <td>0.880360</td>\n",
       "      <td>23040</td>\n",
       "      <td>23040</td>\n",
       "      <td>10080</td>\n",
       "      <td>{'elasticnet__alpha': 0.1, 'elasticnet__l1_rat...</td>\n",
       "    </tr>\n",
       "    <tr>\n",
       "      <th>1</th>\n",
       "      <td>1</td>\n",
       "      <td>100</td>\n",
       "      <td>118.339712</td>\n",
       "      <td>69.855392</td>\n",
       "      <td>0.151413</td>\n",
       "      <td>0.848587</td>\n",
       "      <td>23040</td>\n",
       "      <td>23040</td>\n",
       "      <td>10080</td>\n",
       "      <td>{'elasticnet__alpha': 0.1, 'elasticnet__l1_rat...</td>\n",
       "    </tr>\n",
       "    <tr>\n",
       "      <th>2</th>\n",
       "      <td>2</td>\n",
       "      <td>100</td>\n",
       "      <td>69.582297</td>\n",
       "      <td>35.054479</td>\n",
       "      <td>0.065478</td>\n",
       "      <td>0.934522</td>\n",
       "      <td>23040</td>\n",
       "      <td>23040</td>\n",
       "      <td>10080</td>\n",
       "      <td>{'elasticnet__alpha': 0.1, 'elasticnet__l1_rat...</td>\n",
       "    </tr>\n",
       "    <tr>\n",
       "      <th>3</th>\n",
       "      <td>3</td>\n",
       "      <td>100</td>\n",
       "      <td>96.388042</td>\n",
       "      <td>61.093447</td>\n",
       "      <td>0.037203</td>\n",
       "      <td>0.962797</td>\n",
       "      <td>23040</td>\n",
       "      <td>23040</td>\n",
       "      <td>10080</td>\n",
       "      <td>{'elasticnet__alpha': 0.1, 'elasticnet__l1_rat...</td>\n",
       "    </tr>\n",
       "    <tr>\n",
       "      <th>4</th>\n",
       "      <td>4</td>\n",
       "      <td>100</td>\n",
       "      <td>116.752655</td>\n",
       "      <td>83.542818</td>\n",
       "      <td>0.070987</td>\n",
       "      <td>0.929013</td>\n",
       "      <td>23040</td>\n",
       "      <td>23040</td>\n",
       "      <td>10080</td>\n",
       "      <td>{'elasticnet__alpha': 0.1, 'elasticnet__l1_rat...</td>\n",
       "    </tr>\n",
       "    <tr>\n",
       "      <th>5</th>\n",
       "      <td>5</td>\n",
       "      <td>100</td>\n",
       "      <td>138.197821</td>\n",
       "      <td>88.061241</td>\n",
       "      <td>0.123918</td>\n",
       "      <td>0.876082</td>\n",
       "      <td>23040</td>\n",
       "      <td>23040</td>\n",
       "      <td>10080</td>\n",
       "      <td>{'elasticnet__alpha': 0.1, 'elasticnet__l1_rat...</td>\n",
       "    </tr>\n",
       "    <tr>\n",
       "      <th>6</th>\n",
       "      <td>6</td>\n",
       "      <td>100</td>\n",
       "      <td>124.926788</td>\n",
       "      <td>81.864867</td>\n",
       "      <td>0.082895</td>\n",
       "      <td>0.917105</td>\n",
       "      <td>23040</td>\n",
       "      <td>23040</td>\n",
       "      <td>10080</td>\n",
       "      <td>{'elasticnet__alpha': 0.1, 'elasticnet__l1_rat...</td>\n",
       "    </tr>\n",
       "    <tr>\n",
       "      <th>7</th>\n",
       "      <td>7</td>\n",
       "      <td>100</td>\n",
       "      <td>143.775452</td>\n",
       "      <td>94.235287</td>\n",
       "      <td>0.153610</td>\n",
       "      <td>0.846390</td>\n",
       "      <td>23040</td>\n",
       "      <td>23040</td>\n",
       "      <td>10080</td>\n",
       "      <td>{'elasticnet__alpha': 0.1, 'elasticnet__l1_rat...</td>\n",
       "    </tr>\n",
       "  </tbody>\n",
       "</table>\n",
       "</div>"
      ],
      "text/plain": [
       "   fold  scale        rmse         mae       rse        r2  n_labeled  \\\n",
       "0     0    100  160.906629  105.307190  0.119640  0.880360      23040   \n",
       "1     1    100  118.339712   69.855392  0.151413  0.848587      23040   \n",
       "2     2    100   69.582297   35.054479  0.065478  0.934522      23040   \n",
       "3     3    100   96.388042   61.093447  0.037203  0.962797      23040   \n",
       "4     4    100  116.752655   83.542818  0.070987  0.929013      23040   \n",
       "5     5    100  138.197821   88.061241  0.123918  0.876082      23040   \n",
       "6     6    100  124.926788   81.864867  0.082895  0.917105      23040   \n",
       "7     7    100  143.775452   94.235287  0.153610  0.846390      23040   \n",
       "\n",
       "   n_train  n_test                                        best_params  \n",
       "0    23040   10080  {'elasticnet__alpha': 0.1, 'elasticnet__l1_rat...  \n",
       "1    23040   10080  {'elasticnet__alpha': 0.1, 'elasticnet__l1_rat...  \n",
       "2    23040   10080  {'elasticnet__alpha': 0.1, 'elasticnet__l1_rat...  \n",
       "3    23040   10080  {'elasticnet__alpha': 0.1, 'elasticnet__l1_rat...  \n",
       "4    23040   10080  {'elasticnet__alpha': 0.1, 'elasticnet__l1_rat...  \n",
       "5    23040   10080  {'elasticnet__alpha': 0.1, 'elasticnet__l1_rat...  \n",
       "6    23040   10080  {'elasticnet__alpha': 0.1, 'elasticnet__l1_rat...  \n",
       "7    23040   10080  {'elasticnet__alpha': 0.1, 'elasticnet__l1_rat...  "
      ]
     },
     "metadata": {},
     "output_type": "display_data"
    }
   ],
   "source": [
    "results_df = pd.DataFrame(results)\n",
    "results_df.to_csv(os.path.join(RESULTS_DIR, \"elasticnet_fold_results.csv\"), index=False)\n",
    "\n",
    "print(\"Saved to:\", os.path.join(RESULTS_DIR, \"elasticnet_fold_results.csv\"))\n",
    "display(results_df)"
   ]
  },
  {
   "cell_type": "code",
   "execution_count": 6,
   "id": "5fe0f006",
   "metadata": {},
   "outputs": [
    {
     "data": {
      "image/png": "[encoded data removed]",
      "text/plain": [
       "<Figure size 800x500 with 1 Axes>"
      ]
     },
     "metadata": {},
     "output_type": "display_data"
    },
    {
     "data": {
      "image/png": "[encoded data removed]",
      "text/plain": [
       "<Figure size 800x500 with 1 Axes>"
      ]
     },
     "metadata": {},
     "output_type": "display_data"
    },
    {
     "data": {
      "image/png": "[encoded data removed]",
      "text/plain": [
       "<Figure size 800x500 with 1 Axes>"
      ]
     },
     "metadata": {},
     "output_type": "display_data"
    },
    {
     "data": {
      "image/png": "[encoded data removed]",
      "text/plain": [
       "<Figure size 800x500 with 1 Axes>"
      ]
     },
     "metadata": {},
     "output_type": "display_data"
    }
   ],
   "source": [
    "summary_df = results_df.groupby(\"scale\").agg(\n",
    "    rmse_mean=(\"rmse\", \"mean\"),\n",
    "    rmse_std=(\"rmse\", \"std\"),\n",
    "    mae_mean=(\"mae\", \"mean\"),\n",
    "    mae_std=(\"mae\", \"std\"),\n",
    "    rse_mean=(\"rse\", \"mean\"),\n",
    "    rse_std=(\"rse\", \"std\"),\n",
    "    r2_mean=(\"r2\", \"mean\"),\n",
    "    r2_std=(\"r2\", \"std\")\n",
    ").reset_index()\n",
    "\n",
    "def plot_metric(df, metric, ylabel):\n",
    "    plt.figure(figsize=(8, 5))\n",
    "    sns.barplot(\n",
    "        x=\"scale\",\n",
    "        y=f\"{metric}_mean\",\n",
    "        hue=\"scale\",\n",
    "        data=df,\n",
    "        palette=\"viridis\",\n",
    "        legend=False\n",
    "    )\n",
    "    plt.ylabel(ylabel)\n",
    "    plt.title(f\"{ylabel} vs. % Labeled Data (ElasticNet)\")\n",
    "    plt.xlabel(\"% Labeled Data (%)\")\n",
    "    plt.tight_layout()\n",
    "    plt.show()\n",
    "\n",
    "plot_metric(summary_df, \"rmse\", \"RMSE\")\n",
    "plot_metric(summary_df, \"mae\", \"MAE\")\n",
    "plot_metric(summary_df, \"rse\", \"RSE\")\n",
    "plot_metric(summary_df, \"r2\", \"R^2\")"
   ]
  }
 ],
 "metadata": {
  "kernelspec": {
   "display_name": ".venv",
   "language": "python",
   "name": "python3"
  },
  "language_info": {
   "codemirror_mode": {
    "name": "ipython",
    "version": 3
   },
   "file_extension": ".py",
   "mimetype": "text/x-python",
   "name": "python",
   "nbconvert_exporter": "python",
   "pygments_lexer": "ipython3",
   "version": "3.10.0"
  }
 },
 "nbformat": 4,
 "nbformat_minor": 5
}
