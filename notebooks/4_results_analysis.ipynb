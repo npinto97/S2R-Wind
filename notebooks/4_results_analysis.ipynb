{
 "cells": [
  {
   "cell_type": "markdown",
   "id": "35e7f933",
   "metadata": {},
   "source": [
    "# Comparative analysis \n",
    "\n",
    "This notebook evaluates the performance of the S2RMS semi-supervised regression method compared to two supervised learning baselines: ElasticNet and XGBoost. All models are trained using only a subset of labeled data (`1%`, `5%`, and `10%`), with the rest of the dataset used for testing. For fairness, each method is evaluated on the same data splits. The goal is to assess how well S2RMS can generalize with limited supervision, and whether it offers advantages over traditional supervised methods under low-label conditions."
   ]
  },
  {
   "cell_type": "code",
   "execution_count": 44,
   "id": "4e5df82b",
   "metadata": {},
   "outputs": [],
   "source": [
    "import os\n",
    "import pandas as pd\n",
    "import matplotlib.pyplot as plt\n",
    "import seaborn as sns\n",
    "import json"
   ]
  },
  {
   "cell_type": "code",
   "execution_count": 45,
   "id": "312918d2",
   "metadata": {},
   "outputs": [
    {
     "name": "stdout",
     "output_type": "stream",
     "text": [
      "S2RMS Statistics:\n"
     ]
    },
    {
     "data": {
      "application/vnd.microsoft.datawrangler.viewer.v0+json": {
       "columns": [
        {
         "name": "index",
         "rawType": "int64",
         "type": "integer"
        },
        {
         "name": "Scale",
         "rawType": "object",
         "type": "string"
        },
        {
         "name": "mean",
         "rawType": "float64",
         "type": "float"
        },
        {
         "name": "std",
         "rawType": "float64",
         "type": "float"
        }
       ],
       "ref": "b6c0f8a4-28a2-4ca9-b7de-0a28faf8c6f1",
       "rows": [
        [
         "0",
         "1%",
         "413.95836576889417",
         "16.20074347734095"
        ],
        [
         "1",
         "10%",
         "336.9335173475872",
         "10.63789410139385"
        ],
        [
         "2",
         "5%",
         "363.9472555739213",
         "18.8783617598026"
        ]
       ],
       "shape": {
        "columns": 3,
        "rows": 3
       }
      },
      "text/html": [
       "<div>\n",
       "<style scoped>\n",
       "    .dataframe tbody tr th:only-of-type {\n",
       "        vertical-align: middle;\n",
       "    }\n",
       "\n",
       "    .dataframe tbody tr th {\n",
       "        vertical-align: top;\n",
       "    }\n",
       "\n",
       "    .dataframe thead th {\n",
       "        text-align: right;\n",
       "    }\n",
       "</style>\n",
       "<table border=\"1\" class=\"dataframe\">\n",
       "  <thead>\n",
       "    <tr style=\"text-align: right;\">\n",
       "      <th></th>\n",
       "      <th>Scale</th>\n",
       "      <th>mean</th>\n",
       "      <th>std</th>\n",
       "    </tr>\n",
       "  </thead>\n",
       "  <tbody>\n",
       "    <tr>\n",
       "      <th>0</th>\n",
       "      <td>1%</td>\n",
       "      <td>413.958366</td>\n",
       "      <td>16.200743</td>\n",
       "    </tr>\n",
       "    <tr>\n",
       "      <th>1</th>\n",
       "      <td>10%</td>\n",
       "      <td>336.933517</td>\n",
       "      <td>10.637894</td>\n",
       "    </tr>\n",
       "    <tr>\n",
       "      <th>2</th>\n",
       "      <td>5%</td>\n",
       "      <td>363.947256</td>\n",
       "      <td>18.878362</td>\n",
       "    </tr>\n",
       "  </tbody>\n",
       "</table>\n",
       "</div>"
      ],
      "text/plain": [
       "  Scale        mean        std\n",
       "0    1%  413.958366  16.200743\n",
       "1   10%  336.933517  10.637894\n",
       "2    5%  363.947256  18.878362"
      ]
     },
     "metadata": {},
     "output_type": "display_data"
    }
   ],
   "source": [
    "base_dir = \"../results/wind/\"\n",
    "scales = ['1', '5', '10']\n",
    "scale_labels = {'1': '1%', '5': '5%', '10': '10%'}\n",
    "\n",
    "rmse_results = []\n",
    "\n",
    "for scale in scales:\n",
    "    folder = os.path.join(base_dir, scale.replace('0.', ''))\n",
    "    for file in os.listdir(folder):\n",
    "        if file.endswith(\".csv\"):\n",
    "            df = pd.read_csv(os.path.join(folder, file))\n",
    "            rmse_results.append({\n",
    "                \"Scale\": f\"{int(float(scale))}%\",\n",
    "                \"Run\": int(df['run'].values[0]),\n",
    "                \"RMSE\": df['rmse'].values[0],\n",
    "                \"Model\": \"S2RMS\"\n",
    "            })\n",
    "\n",
    "s2rms_df = pd.DataFrame(rmse_results)\n",
    "\n",
    "summary_df = s2rms_df.groupby(\"Scale\")[\"RMSE\"].agg([\"mean\", \"std\"]).reset_index()\n",
    "print(\"S2RMS Statistics:\")\n",
    "display(summary_df)"
   ]
  },
  {
   "cell_type": "code",
   "execution_count": 46,
   "id": "ac9932ae",
   "metadata": {},
   "outputs": [
    {
     "data": {
      "application/vnd.microsoft.datawrangler.viewer.v0+json": {
       "columns": [
        {
         "name": "index",
         "rawType": "int64",
         "type": "integer"
        },
        {
         "name": "Scale",
         "rawType": "object",
         "type": "string"
        },
        {
         "name": "Run",
         "rawType": "object",
         "type": "string"
        },
        {
         "name": "RMSE",
         "rawType": "float64",
         "type": "float"
        },
        {
         "name": "Model",
         "rawType": "object",
         "type": "string"
        }
       ],
       "ref": "4f702bf3-42d4-4a61-b4b7-38b1f468c25b",
       "rows": [
        [
         "0",
         "1%",
         "avg",
         "251.49",
         "ElasticNet"
        ],
        [
         "1",
         "1%",
         "avg",
         "198.28",
         "XGBoost"
        ],
        [
         "2",
         "5%",
         "avg",
         "203.87",
         "ElasticNet"
        ],
        [
         "3",
         "5%",
         "avg",
         "183.98",
         "XGBoost"
        ],
        [
         "4",
         "10%",
         "avg",
         "192.68",
         "ElasticNet"
        ],
        [
         "5",
         "10%",
         "avg",
         "134.77",
         "XGBoost"
        ]
       ],
       "shape": {
        "columns": 4,
        "rows": 6
       }
      },
      "text/html": [
       "<div>\n",
       "<style scoped>\n",
       "    .dataframe tbody tr th:only-of-type {\n",
       "        vertical-align: middle;\n",
       "    }\n",
       "\n",
       "    .dataframe tbody tr th {\n",
       "        vertical-align: top;\n",
       "    }\n",
       "\n",
       "    .dataframe thead th {\n",
       "        text-align: right;\n",
       "    }\n",
       "</style>\n",
       "<table border=\"1\" class=\"dataframe\">\n",
       "  <thead>\n",
       "    <tr style=\"text-align: right;\">\n",
       "      <th></th>\n",
       "      <th>Scale</th>\n",
       "      <th>Run</th>\n",
       "      <th>RMSE</th>\n",
       "      <th>Model</th>\n",
       "    </tr>\n",
       "  </thead>\n",
       "  <tbody>\n",
       "    <tr>\n",
       "      <th>0</th>\n",
       "      <td>1%</td>\n",
       "      <td>avg</td>\n",
       "      <td>251.49</td>\n",
       "      <td>ElasticNet</td>\n",
       "    </tr>\n",
       "    <tr>\n",
       "      <th>1</th>\n",
       "      <td>1%</td>\n",
       "      <td>avg</td>\n",
       "      <td>198.28</td>\n",
       "      <td>XGBoost</td>\n",
       "    </tr>\n",
       "    <tr>\n",
       "      <th>2</th>\n",
       "      <td>5%</td>\n",
       "      <td>avg</td>\n",
       "      <td>203.87</td>\n",
       "      <td>ElasticNet</td>\n",
       "    </tr>\n",
       "    <tr>\n",
       "      <th>3</th>\n",
       "      <td>5%</td>\n",
       "      <td>avg</td>\n",
       "      <td>183.98</td>\n",
       "      <td>XGBoost</td>\n",
       "    </tr>\n",
       "    <tr>\n",
       "      <th>4</th>\n",
       "      <td>10%</td>\n",
       "      <td>avg</td>\n",
       "      <td>192.68</td>\n",
       "      <td>ElasticNet</td>\n",
       "    </tr>\n",
       "    <tr>\n",
       "      <th>5</th>\n",
       "      <td>10%</td>\n",
       "      <td>avg</td>\n",
       "      <td>134.77</td>\n",
       "      <td>XGBoost</td>\n",
       "    </tr>\n",
       "  </tbody>\n",
       "</table>\n",
       "</div>"
      ],
      "text/plain": [
       "  Scale  Run    RMSE       Model\n",
       "0    1%  avg  251.49  ElasticNet\n",
       "1    1%  avg  198.28     XGBoost\n",
       "2    5%  avg  203.87  ElasticNet\n",
       "3    5%  avg  183.98     XGBoost\n",
       "4   10%  avg  192.68  ElasticNet\n",
       "5   10%  avg  134.77     XGBoost"
      ]
     },
     "metadata": {},
     "output_type": "display_data"
    }
   ],
   "source": [
    "with open(\"../results/elasticnet_semisupervised_scores.json\") as f:\n",
    "    elastic = json.load(f)\n",
    "\n",
    "with open(\"../results/xgboost_semisupervised_scores.json\") as f:\n",
    "    xgboost = json.load(f)\n",
    "\n",
    "baseline_data = []\n",
    "\n",
    "for scale in ['1%', '5%', '10%']:\n",
    "    baseline_data.append({\n",
    "        \"Scale\": scale,\n",
    "        \"Run\": \"avg\",\n",
    "        \"RMSE\": elastic[scale]['RMSE'],\n",
    "        \"Model\": \"ElasticNet\"\n",
    "    })\n",
    "    baseline_data.append({\n",
    "        \"Scale\": scale,\n",
    "        \"Run\": \"avg\",\n",
    "        \"RMSE\": xgboost[scale]['RMSE'],\n",
    "        \"Model\": \"XGBoost\"\n",
    "    })\n",
    "\n",
    "baseline_df = pd.DataFrame(baseline_data)\n",
    "\n",
    "display(baseline_df)\n"
   ]
  },
  {
   "cell_type": "code",
   "execution_count": 47,
   "id": "de809431",
   "metadata": {},
   "outputs": [
    {
     "data": {
      "image/png": "[encoded data removed]",
      "text/plain": [
       "<Figure size 1000x600 with 1 Axes>"
      ]
     },
     "metadata": {},
     "output_type": "display_data"
    }
   ],
   "source": [
    "combined_df = pd.concat([s2rms_df, baseline_df], ignore_index=True)\n",
    "\n",
    "\n",
    "plt.figure(figsize=(10, 6))\n",
    "sns.barplot(data=combined_df, x=\"Scale\", y=\"RMSE\", hue=\"Model\", errorbar='sd', capsize=0.1, palette=\"Set2\")\n",
    "plt.title(\"RMSE Comparison – S2RMS vs ElasticNet vs XGBoost\")\n",
    "plt.ylabel(\"Root Mean Squared Error (RMSE)\")\n",
    "plt.xlabel(\"Percentage of labeled data\")\n",
    "plt.grid(True, linestyle=\"--\", alpha=0.5)\n",
    "plt.tight_layout()\n",
    "plt.show()"
   ]
  },
  {
   "cell_type": "markdown",
   "id": "103b4c08",
   "metadata": {},
   "source": [
    "The results show a clear performance advantage for supervised baselines, especially XGBoost, which consistently achieves the lowest RMSE across all label percentages. S2RMS, while competitive, produces higher error values but demonstrates a decreasing trend in RMSE as more labeled data becomes available. This suggests that S2RMS benefits from increased supervision but currently underperforms compared to fully supervised models in this setting. Further improvements could be explored in the triplet network architecture or co-training strategy to reduce this performance gap."
   ]
  }
 ],
 "metadata": {
  "kernelspec": {
   "display_name": ".venv",
   "language": "python",
   "name": "python3"
  },
  "language_info": {
   "codemirror_mode": {
    "name": "ipython",
    "version": 3
   },
   "file_extension": ".py",
   "mimetype": "text/x-python",
   "name": "python",
   "nbconvert_exporter": "python",
   "pygments_lexer": "ipython3",
   "version": "3.10.0"
  }
 },
 "nbformat": 4,
 "nbformat_minor": 5
}
