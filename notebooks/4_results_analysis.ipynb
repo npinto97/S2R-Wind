{
 "cells": [
  {
   "cell_type": "code",
   "execution_count": 38,
   "id": "4e5df82b",
   "metadata": {},
   "outputs": [],
   "source": [
    "import os\n",
    "import pandas as pd\n",
    "import matplotlib.pyplot as plt\n",
    "import seaborn as sns\n",
    "import json"
   ]
  },
  {
   "cell_type": "code",
   "execution_count": 39,
   "id": "312918d2",
   "metadata": {},
   "outputs": [
    {
     "name": "stdout",
     "output_type": "stream",
     "text": [
      "S2RMS Statistics:\n"
     ]
    },
    {
     "data": {
      "application/vnd.microsoft.datawrangler.viewer.v0+json": {
       "columns": [
        {
         "name": "index",
         "rawType": "int64",
         "type": "integer"
        },
        {
         "name": "Scale",
         "rawType": "object",
         "type": "string"
        },
        {
         "name": "mean",
         "rawType": "float64",
         "type": "float"
        },
        {
         "name": "std",
         "rawType": "float64",
         "type": "float"
        }
       ],
       "ref": "819660fe-2aff-431f-926f-66f9368a204a",
       "rows": [
        [
         "0",
         "1%",
         "422.8637994287165",
         null
        ],
        [
         "1",
         "10%",
         "329.7622965568533",
         null
        ],
        [
         "2",
         "5%",
         "348.6916823557585",
         null
        ]
       ],
       "shape": {
        "columns": 3,
        "rows": 3
       }
      },
      "text/html": [
       "<div>\n",
       "<style scoped>\n",
       "    .dataframe tbody tr th:only-of-type {\n",
       "        vertical-align: middle;\n",
       "    }\n",
       "\n",
       "    .dataframe tbody tr th {\n",
       "        vertical-align: top;\n",
       "    }\n",
       "\n",
       "    .dataframe thead th {\n",
       "        text-align: right;\n",
       "    }\n",
       "</style>\n",
       "<table border=\"1\" class=\"dataframe\">\n",
       "  <thead>\n",
       "    <tr style=\"text-align: right;\">\n",
       "      <th></th>\n",
       "      <th>Scale</th>\n",
       "      <th>mean</th>\n",
       "      <th>std</th>\n",
       "    </tr>\n",
       "  </thead>\n",
       "  <tbody>\n",
       "    <tr>\n",
       "      <th>0</th>\n",
       "      <td>1%</td>\n",
       "      <td>422.863799</td>\n",
       "      <td>NaN</td>\n",
       "    </tr>\n",
       "    <tr>\n",
       "      <th>1</th>\n",
       "      <td>10%</td>\n",
       "      <td>329.762297</td>\n",
       "      <td>NaN</td>\n",
       "    </tr>\n",
       "    <tr>\n",
       "      <th>2</th>\n",
       "      <td>5%</td>\n",
       "      <td>348.691682</td>\n",
       "      <td>NaN</td>\n",
       "    </tr>\n",
       "  </tbody>\n",
       "</table>\n",
       "</div>"
      ],
      "text/plain": [
       "  Scale        mean  std\n",
       "0    1%  422.863799  NaN\n",
       "1   10%  329.762297  NaN\n",
       "2    5%  348.691682  NaN"
      ]
     },
     "metadata": {},
     "output_type": "display_data"
    }
   ],
   "source": [
    "base_dir = \"../results/wind/\"\n",
    "scales = ['1', '5', '10']\n",
    "scale_labels = {'1': '1%', '5': '5%', '10': '10%'}\n",
    "\n",
    "rmse_results = []\n",
    "\n",
    "for scale in scales:\n",
    "    folder = os.path.join(base_dir, scale.replace('0.', ''))\n",
    "    for file in os.listdir(folder):\n",
    "        if file.endswith(\".csv\"):\n",
    "            df = pd.read_csv(os.path.join(folder, file))\n",
    "            rmse_results.append({\n",
    "                \"Scale\": f\"{int(float(scale))}%\",\n",
    "                \"Run\": int(df['run'].values[0]),\n",
    "                \"RMSE\": df['rmse'].values[0],\n",
    "                \"Model\": \"S2RMS\"\n",
    "            })\n",
    "\n",
    "s2rms_df = pd.DataFrame(rmse_results)\n",
    "\n",
    "summary_df = s2rms_df.groupby(\"Scale\")[\"RMSE\"].agg([\"mean\", \"std\"]).reset_index()\n",
    "print(\"S2RMS Statistics:\")\n",
    "display(summary_df)"
   ]
  },
  {
   "cell_type": "code",
   "execution_count": 43,
   "id": "ac9932ae",
   "metadata": {},
   "outputs": [
    {
     "data": {
      "application/vnd.microsoft.datawrangler.viewer.v0+json": {
       "columns": [
        {
         "name": "index",
         "rawType": "int64",
         "type": "integer"
        },
        {
         "name": "Scale",
         "rawType": "object",
         "type": "string"
        },
        {
         "name": "Run",
         "rawType": "object",
         "type": "string"
        },
        {
         "name": "RMSE",
         "rawType": "float64",
         "type": "float"
        },
        {
         "name": "Model",
         "rawType": "object",
         "type": "string"
        }
       ],
       "ref": "27f397f9-f9c6-422b-8d7f-2e44402d1f69",
       "rows": [
        [
         "0",
         "1%",
         "avg",
         "251.49",
         "ElasticNet"
        ],
        [
         "1",
         "1%",
         "avg",
         "198.28",
         "XGBoost"
        ],
        [
         "2",
         "5%",
         "avg",
         "203.87",
         "ElasticNet"
        ],
        [
         "3",
         "5%",
         "avg",
         "183.98",
         "XGBoost"
        ],
        [
         "4",
         "10%",
         "avg",
         "192.68",
         "ElasticNet"
        ],
        [
         "5",
         "10%",
         "avg",
         "134.77",
         "XGBoost"
        ]
       ],
       "shape": {
        "columns": 4,
        "rows": 6
       }
      },
      "text/html": [
       "<div>\n",
       "<style scoped>\n",
       "    .dataframe tbody tr th:only-of-type {\n",
       "        vertical-align: middle;\n",
       "    }\n",
       "\n",
       "    .dataframe tbody tr th {\n",
       "        vertical-align: top;\n",
       "    }\n",
       "\n",
       "    .dataframe thead th {\n",
       "        text-align: right;\n",
       "    }\n",
       "</style>\n",
       "<table border=\"1\" class=\"dataframe\">\n",
       "  <thead>\n",
       "    <tr style=\"text-align: right;\">\n",
       "      <th></th>\n",
       "      <th>Scale</th>\n",
       "      <th>Run</th>\n",
       "      <th>RMSE</th>\n",
       "      <th>Model</th>\n",
       "    </tr>\n",
       "  </thead>\n",
       "  <tbody>\n",
       "    <tr>\n",
       "      <th>0</th>\n",
       "      <td>1%</td>\n",
       "      <td>avg</td>\n",
       "      <td>251.49</td>\n",
       "      <td>ElasticNet</td>\n",
       "    </tr>\n",
       "    <tr>\n",
       "      <th>1</th>\n",
       "      <td>1%</td>\n",
       "      <td>avg</td>\n",
       "      <td>198.28</td>\n",
       "      <td>XGBoost</td>\n",
       "    </tr>\n",
       "    <tr>\n",
       "      <th>2</th>\n",
       "      <td>5%</td>\n",
       "      <td>avg</td>\n",
       "      <td>203.87</td>\n",
       "      <td>ElasticNet</td>\n",
       "    </tr>\n",
       "    <tr>\n",
       "      <th>3</th>\n",
       "      <td>5%</td>\n",
       "      <td>avg</td>\n",
       "      <td>183.98</td>\n",
       "      <td>XGBoost</td>\n",
       "    </tr>\n",
       "    <tr>\n",
       "      <th>4</th>\n",
       "      <td>10%</td>\n",
       "      <td>avg</td>\n",
       "      <td>192.68</td>\n",
       "      <td>ElasticNet</td>\n",
       "    </tr>\n",
       "    <tr>\n",
       "      <th>5</th>\n",
       "      <td>10%</td>\n",
       "      <td>avg</td>\n",
       "      <td>134.77</td>\n",
       "      <td>XGBoost</td>\n",
       "    </tr>\n",
       "  </tbody>\n",
       "</table>\n",
       "</div>"
      ],
      "text/plain": [
       "  Scale  Run    RMSE       Model\n",
       "0    1%  avg  251.49  ElasticNet\n",
       "1    1%  avg  198.28     XGBoost\n",
       "2    5%  avg  203.87  ElasticNet\n",
       "3    5%  avg  183.98     XGBoost\n",
       "4   10%  avg  192.68  ElasticNet\n",
       "5   10%  avg  134.77     XGBoost"
      ]
     },
     "metadata": {},
     "output_type": "display_data"
    }
   ],
   "source": [
    "with open(\"../results/elasticnet_semisupervised_scores.json\") as f:\n",
    "    elastic = json.load(f)\n",
    "\n",
    "with open(\"../results/xgboost_semisupervised_scores.json\") as f:\n",
    "    xgboost = json.load(f)\n",
    "\n",
    "baseline_data = []\n",
    "\n",
    "for scale in ['1%', '5%', '10%']:\n",
    "    baseline_data.append({\n",
    "        \"Scale\": scale,\n",
    "        \"Run\": \"avg\",\n",
    "        \"RMSE\": elastic[scale]['RMSE'],\n",
    "        \"Model\": \"ElasticNet\"\n",
    "    })\n",
    "    baseline_data.append({\n",
    "        \"Scale\": scale,\n",
    "        \"Run\": \"avg\",\n",
    "        \"RMSE\": xgboost[scale]['RMSE'],\n",
    "        \"Model\": \"XGBoost\"\n",
    "    })\n",
    "\n",
    "baseline_df = pd.DataFrame(baseline_data)\n",
    "\n",
    "display(baseline_df)\n"
   ]
  },
  {
   "cell_type": "code",
   "execution_count": 41,
   "id": "de809431",
   "metadata": {},
   "outputs": [
    {
     "data": {
      "image/png": "[encoded data removed]",
      "text/plain": [
       "<Figure size 1000x600 with 1 Axes>"
      ]
     },
     "metadata": {},
     "output_type": "display_data"
    }
   ],
   "source": [
    "combined_df = pd.concat([s2rms_df, baseline_df], ignore_index=True)\n",
    "\n",
    "\n",
    "plt.figure(figsize=(10, 6))\n",
    "sns.barplot(data=combined_df, x=\"Scale\", y=\"RMSE\", hue=\"Model\", errorbar='sd', capsize=0.1, palette=\"Set2\")\n",
    "plt.title(\"RMSE Comparison – S2RMS vs ElasticNet vs XGBoost\")\n",
    "plt.ylabel(\"Root Mean Squared Error (RMSE)\")\n",
    "plt.xlabel(\"Percentage of labeled data\")\n",
    "plt.grid(True, linestyle=\"--\", alpha=0.5)\n",
    "plt.tight_layout()\n",
    "plt.show()"
   ]
  }
 ],
 "metadata": {
  "kernelspec": {
   "display_name": ".venv",
   "language": "python",
   "name": "python3"
  },
  "language_info": {
   "codemirror_mode": {
    "name": "ipython",
    "version": 3
   },
   "file_extension": ".py",
   "mimetype": "text/x-python",
   "name": "python",
   "nbconvert_exporter": "python",
   "pygments_lexer": "ipython3",
   "version": "3.10.0"
  }
 },
 "nbformat": 4,
 "nbformat_minor": 5
}
