{
 "cells": [
  {
   "cell_type": "markdown",
   "id": "9155caf6",
   "metadata": {},
   "source": [
    "# Feature Extraction Notebook\n",
    "\n",
    "In this section, we extracted additional features from the original dataset to enhance the predictive power of future models. Feature engineering helps expose hidden patterns, capture temporal and operational dynamics, and make raw data more suitable for machine learning algorithms.\n",
    "\n",
    "The following types of features were derived:\n",
    "\n",
    "- **Temporal Features**: \n",
    "  - `hour`, `minute`, `weekday`, and `time_index` capture daily and weekly cycles that may influence wind behavior and turbine performance.\n",
    "\n",
    "- **Wind Direction Components**:\n",
    "  - `Wdir_sin` and `Wdir_cos` are computed from `Wdir` using trigonometric transformations to represent angular direction in a continuous, model-friendly format.\n",
    "\n",
    "- **Operational Status Flags**:\n",
    "  - Boolean indicators such as `is_operating`, `is_idle`, and `is_stopped` provide insight into the turbine's state and help identify inactive or faulty periods.\n",
    "\n",
    "- **Spatial Features**:\n",
    "  - `X` and `Y` coordinates were merged from the turbine location file to enable spatial modeling and proximity-based correlation among turbines."
   ]
  },
  {
   "cell_type": "code",
   "execution_count": 20,
   "id": "ccad5e64",
   "metadata": {},
   "outputs": [],
   "source": [
    "import pandas as pd\n",
    "import numpy as np\n",
    "import matplotlib.pyplot as plt\n",
    "import seaborn as sns"
   ]
  },
  {
   "cell_type": "code",
   "execution_count": 21,
   "id": "33757815",
   "metadata": {},
   "outputs": [],
   "source": [
    "wtb_df_clean = pd.read_csv(\"../data/interim/wtbdata_clean.csv\")"
   ]
  },
  {
   "cell_type": "code",
   "execution_count": 22,
   "id": "8f435ae8",
   "metadata": {},
   "outputs": [],
   "source": [
    "wtb_df_clean['Timestamp'] = pd.to_datetime(wtb_df_clean['Timestamp'], errors='coerce')"
   ]
  },
  {
   "cell_type": "markdown",
   "id": "55db2269",
   "metadata": {},
   "source": [
    "## 1. Time-Based Features"
   ]
  },
  {
   "cell_type": "code",
   "execution_count": 23,
   "id": "2435bd5b",
   "metadata": {},
   "outputs": [],
   "source": [
    "wtb_df_clean['hour'] = wtb_df_clean['Timestamp'].dt.hour\n",
    "wtb_df_clean['minute'] = wtb_df_clean['Timestamp'].dt.minute\n",
    "wtb_df_clean['time_index'] = wtb_df_clean['hour'] * 60 + wtb_df_clean['minute']\n",
    "wtb_df_clean['weekday'] = wtb_df_clean['Timestamp'].dt.weekday"
   ]
  },
  {
   "cell_type": "markdown",
   "id": "d719e1bf",
   "metadata": {},
   "source": [
    "## 2. Wind Direction Encoding"
   ]
  },
  {
   "cell_type": "code",
   "execution_count": 24,
   "id": "01c83ebe",
   "metadata": {},
   "outputs": [],
   "source": [
    "wtb_df_clean['Wdir_rad'] = np.deg2rad(wtb_df_clean['Wdir'])\n",
    "wtb_df_clean['Wdir_sin'] = np.sin(wtb_df_clean['Wdir_rad'])\n",
    "wtb_df_clean['Wdir_cos'] = np.cos(wtb_df_clean['Wdir_rad'])"
   ]
  },
  {
   "cell_type": "markdown",
   "id": "8743aaee",
   "metadata": {},
   "source": [
    "## 3. Operational Status Indicators"
   ]
  },
  {
   "cell_type": "code",
   "execution_count": 25,
   "id": "60d718cf",
   "metadata": {},
   "outputs": [],
   "source": [
    "wtb_df_clean['is_operating'] = (wtb_df_clean['Wspd'] > 0) & (wtb_df_clean['Patv'] > 0)\n",
    "wtb_df_clean['is_idle'] = (wtb_df_clean['Wspd'] > 0) & (wtb_df_clean['Patv'] == 0)\n",
    "wtb_df_clean['is_stopped'] = (wtb_df_clean['Wspd'] == 0)"
   ]
  },
  {
   "cell_type": "markdown",
   "id": "d8096e07",
   "metadata": {},
   "source": [
    "## 4. Merge Spatial Coordinates from location.csv"
   ]
  },
  {
   "cell_type": "code",
   "execution_count": 26,
   "id": "79e7de25",
   "metadata": {},
   "outputs": [],
   "source": [
    "location_df = pd.read_csv(\"../data/raw/turb_location.csv\")\n",
    "wtb_df_clean = wtb_df_clean.merge(location_df, on='TurbID', how='left')"
   ]
  },
  {
   "cell_type": "markdown",
   "id": "b93a9853",
   "metadata": {},
   "source": [
    "## Final Feature Selection"
   ]
  },
  {
   "cell_type": "code",
   "execution_count": 27,
   "id": "903883be",
   "metadata": {},
   "outputs": [
    {
     "data": {
      "application/vnd.microsoft.datawrangler.viewer.v0+json": {
       "columns": [
        {
         "name": "index",
         "rawType": "int64",
         "type": "integer"
        },
        {
         "name": "TurbID",
         "rawType": "int64",
         "type": "integer"
        },
        {
         "name": "Timestamp",
         "rawType": "datetime64[ns]",
         "type": "datetime"
        },
        {
         "name": "Wspd",
         "rawType": "float64",
         "type": "float"
        },
        {
         "name": "Wdir",
         "rawType": "float64",
         "type": "float"
        },
        {
         "name": "Etmp",
         "rawType": "float64",
         "type": "float"
        },
        {
         "name": "Itmp",
         "rawType": "float64",
         "type": "float"
        },
        {
         "name": "Ndir",
         "rawType": "float64",
         "type": "float"
        },
        {
         "name": "Pab1",
         "rawType": "float64",
         "type": "float"
        },
        {
         "name": "Prtv",
         "rawType": "float64",
         "type": "float"
        },
        {
         "name": "Patv",
         "rawType": "float64",
         "type": "float"
        },
        {
         "name": "hour",
         "rawType": "int32",
         "type": "integer"
        },
        {
         "name": "minute",
         "rawType": "int32",
         "type": "integer"
        },
        {
         "name": "time_index",
         "rawType": "int32",
         "type": "integer"
        },
        {
         "name": "weekday",
         "rawType": "int32",
         "type": "integer"
        },
        {
         "name": "Wdir_sin",
         "rawType": "float64",
         "type": "float"
        },
        {
         "name": "Wdir_cos",
         "rawType": "float64",
         "type": "float"
        },
        {
         "name": "is_operating",
         "rawType": "bool",
         "type": "boolean"
        },
        {
         "name": "is_idle",
         "rawType": "bool",
         "type": "boolean"
        },
        {
         "name": "is_stopped",
         "rawType": "bool",
         "type": "boolean"
        },
        {
         "name": "x",
         "rawType": "float64",
         "type": "float"
        },
        {
         "name": "y",
         "rawType": "float64",
         "type": "float"
        }
       ],
       "ref": "2b0e3a78-f6cd-4b4c-9fc2-f420318f90e0",
       "rows": [
        [
         "0",
         "1",
         "2021-01-01 00:10:00",
         "6.17",
         "-3.99",
         "30.73",
         "41.8",
         "25.92",
         "1.0",
         "-0.25",
         "494.66",
         "0",
         "10",
         "10",
         "4",
         "-0.06958236491079174",
         "0.9975762098674072",
         "True",
         "False",
         "False",
         "3349.8515",
         "5939.23193"
        ],
        [
         "1",
         "1",
         "2021-01-01 00:20:00",
         "6.27",
         "-2.18",
         "30.6",
         "41.63",
         "20.91",
         "1.0",
         "-0.24",
         "509.76",
         "0",
         "20",
         "20",
         "4",
         "-0.038038998196195516",
         "0.9992762554049955",
         "True",
         "False",
         "False",
         "3349.8515",
         "5939.23193"
        ],
        [
         "2",
         "1",
         "2021-01-01 00:30:00",
         "6.42",
         "-0.73",
         "30.52",
         "41.52",
         "20.91",
         "1.0",
         "-0.26",
         "542.53",
         "0",
         "30",
         "30",
         "4",
         "-0.012740558835888214",
         "0.9999188357864599",
         "True",
         "False",
         "False",
         "3349.8515",
         "5939.23193"
        ],
        [
         "3",
         "1",
         "2021-01-01 00:40:00",
         "6.25",
         "0.89",
         "30.49",
         "41.38",
         "20.91",
         "1.0",
         "-0.23",
         "509.36",
         "0",
         "40",
         "40",
         "4",
         "0.015532805679964956",
         "0.9998793586966922",
         "True",
         "False",
         "False",
         "3349.8515",
         "5939.23193"
        ],
        [
         "4",
         "1",
         "2021-01-01 00:50:00",
         "6.1",
         "-1.03",
         "30.47",
         "41.22",
         "20.91",
         "1.0",
         "-0.27",
         "482.21",
         "0",
         "50",
         "50",
         "4",
         "-0.017975923049993126",
         "0.9998384200412088",
         "True",
         "False",
         "False",
         "3349.8515",
         "5939.23193"
        ]
       ],
       "shape": {
        "columns": 21,
        "rows": 5
       }
      },
      "text/html": [
       "<div>\n",
       "<style scoped>\n",
       "    .dataframe tbody tr th:only-of-type {\n",
       "        vertical-align: middle;\n",
       "    }\n",
       "\n",
       "    .dataframe tbody tr th {\n",
       "        vertical-align: top;\n",
       "    }\n",
       "\n",
       "    .dataframe thead th {\n",
       "        text-align: right;\n",
       "    }\n",
       "</style>\n",
       "<table border=\"1\" class=\"dataframe\">\n",
       "  <thead>\n",
       "    <tr style=\"text-align: right;\">\n",
       "      <th></th>\n",
       "      <th>TurbID</th>\n",
       "      <th>Timestamp</th>\n",
       "      <th>Wspd</th>\n",
       "      <th>Wdir</th>\n",
       "      <th>Etmp</th>\n",
       "      <th>Itmp</th>\n",
       "      <th>Ndir</th>\n",
       "      <th>Pab1</th>\n",
       "      <th>Prtv</th>\n",
       "      <th>Patv</th>\n",
       "      <th>...</th>\n",
       "      <th>minute</th>\n",
       "      <th>time_index</th>\n",
       "      <th>weekday</th>\n",
       "      <th>Wdir_sin</th>\n",
       "      <th>Wdir_cos</th>\n",
       "      <th>is_operating</th>\n",
       "      <th>is_idle</th>\n",
       "      <th>is_stopped</th>\n",
       "      <th>x</th>\n",
       "      <th>y</th>\n",
       "    </tr>\n",
       "  </thead>\n",
       "  <tbody>\n",
       "    <tr>\n",
       "      <th>0</th>\n",
       "      <td>1</td>\n",
       "      <td>2021-01-01 00:10:00</td>\n",
       "      <td>6.17</td>\n",
       "      <td>-3.99</td>\n",
       "      <td>30.73</td>\n",
       "      <td>41.80</td>\n",
       "      <td>25.92</td>\n",
       "      <td>1.0</td>\n",
       "      <td>-0.25</td>\n",
       "      <td>494.66</td>\n",
       "      <td>...</td>\n",
       "      <td>10</td>\n",
       "      <td>10</td>\n",
       "      <td>4</td>\n",
       "      <td>-0.069582</td>\n",
       "      <td>0.997576</td>\n",
       "      <td>True</td>\n",
       "      <td>False</td>\n",
       "      <td>False</td>\n",
       "      <td>3349.8515</td>\n",
       "      <td>5939.23193</td>\n",
       "    </tr>\n",
       "    <tr>\n",
       "      <th>1</th>\n",
       "      <td>1</td>\n",
       "      <td>2021-01-01 00:20:00</td>\n",
       "      <td>6.27</td>\n",
       "      <td>-2.18</td>\n",
       "      <td>30.60</td>\n",
       "      <td>41.63</td>\n",
       "      <td>20.91</td>\n",
       "      <td>1.0</td>\n",
       "      <td>-0.24</td>\n",
       "      <td>509.76</td>\n",
       "      <td>...</td>\n",
       "      <td>20</td>\n",
       "      <td>20</td>\n",
       "      <td>4</td>\n",
       "      <td>-0.038039</td>\n",
       "      <td>0.999276</td>\n",
       "      <td>True</td>\n",
       "      <td>False</td>\n",
       "      <td>False</td>\n",
       "      <td>3349.8515</td>\n",
       "      <td>5939.23193</td>\n",
       "    </tr>\n",
       "    <tr>\n",
       "      <th>2</th>\n",
       "      <td>1</td>\n",
       "      <td>2021-01-01 00:30:00</td>\n",
       "      <td>6.42</td>\n",
       "      <td>-0.73</td>\n",
       "      <td>30.52</td>\n",
       "      <td>41.52</td>\n",
       "      <td>20.91</td>\n",
       "      <td>1.0</td>\n",
       "      <td>-0.26</td>\n",
       "      <td>542.53</td>\n",
       "      <td>...</td>\n",
       "      <td>30</td>\n",
       "      <td>30</td>\n",
       "      <td>4</td>\n",
       "      <td>-0.012741</td>\n",
       "      <td>0.999919</td>\n",
       "      <td>True</td>\n",
       "      <td>False</td>\n",
       "      <td>False</td>\n",
       "      <td>3349.8515</td>\n",
       "      <td>5939.23193</td>\n",
       "    </tr>\n",
       "    <tr>\n",
       "      <th>3</th>\n",
       "      <td>1</td>\n",
       "      <td>2021-01-01 00:40:00</td>\n",
       "      <td>6.25</td>\n",
       "      <td>0.89</td>\n",
       "      <td>30.49</td>\n",
       "      <td>41.38</td>\n",
       "      <td>20.91</td>\n",
       "      <td>1.0</td>\n",
       "      <td>-0.23</td>\n",
       "      <td>509.36</td>\n",
       "      <td>...</td>\n",
       "      <td>40</td>\n",
       "      <td>40</td>\n",
       "      <td>4</td>\n",
       "      <td>0.015533</td>\n",
       "      <td>0.999879</td>\n",
       "      <td>True</td>\n",
       "      <td>False</td>\n",
       "      <td>False</td>\n",
       "      <td>3349.8515</td>\n",
       "      <td>5939.23193</td>\n",
       "    </tr>\n",
       "    <tr>\n",
       "      <th>4</th>\n",
       "      <td>1</td>\n",
       "      <td>2021-01-01 00:50:00</td>\n",
       "      <td>6.10</td>\n",
       "      <td>-1.03</td>\n",
       "      <td>30.47</td>\n",
       "      <td>41.22</td>\n",
       "      <td>20.91</td>\n",
       "      <td>1.0</td>\n",
       "      <td>-0.27</td>\n",
       "      <td>482.21</td>\n",
       "      <td>...</td>\n",
       "      <td>50</td>\n",
       "      <td>50</td>\n",
       "      <td>4</td>\n",
       "      <td>-0.017976</td>\n",
       "      <td>0.999838</td>\n",
       "      <td>True</td>\n",
       "      <td>False</td>\n",
       "      <td>False</td>\n",
       "      <td>3349.8515</td>\n",
       "      <td>5939.23193</td>\n",
       "    </tr>\n",
       "  </tbody>\n",
       "</table>\n",
       "<p>5 rows × 21 columns</p>\n",
       "</div>"
      ],
      "text/plain": [
       "   TurbID           Timestamp  Wspd  Wdir   Etmp   Itmp   Ndir  Pab1  Prtv  \\\n",
       "0       1 2021-01-01 00:10:00  6.17 -3.99  30.73  41.80  25.92   1.0 -0.25   \n",
       "1       1 2021-01-01 00:20:00  6.27 -2.18  30.60  41.63  20.91   1.0 -0.24   \n",
       "2       1 2021-01-01 00:30:00  6.42 -0.73  30.52  41.52  20.91   1.0 -0.26   \n",
       "3       1 2021-01-01 00:40:00  6.25  0.89  30.49  41.38  20.91   1.0 -0.23   \n",
       "4       1 2021-01-01 00:50:00  6.10 -1.03  30.47  41.22  20.91   1.0 -0.27   \n",
       "\n",
       "     Patv  ...  minute  time_index  weekday  Wdir_sin  Wdir_cos  is_operating  \\\n",
       "0  494.66  ...      10          10        4 -0.069582  0.997576          True   \n",
       "1  509.76  ...      20          20        4 -0.038039  0.999276          True   \n",
       "2  542.53  ...      30          30        4 -0.012741  0.999919          True   \n",
       "3  509.36  ...      40          40        4  0.015533  0.999879          True   \n",
       "4  482.21  ...      50          50        4 -0.017976  0.999838          True   \n",
       "\n",
       "   is_idle  is_stopped          x           y  \n",
       "0    False       False  3349.8515  5939.23193  \n",
       "1    False       False  3349.8515  5939.23193  \n",
       "2    False       False  3349.8515  5939.23193  \n",
       "3    False       False  3349.8515  5939.23193  \n",
       "4    False       False  3349.8515  5939.23193  \n",
       "\n",
       "[5 rows x 21 columns]"
      ]
     },
     "metadata": {},
     "output_type": "display_data"
    }
   ],
   "source": [
    "selected_features = [\n",
    "    'TurbID', 'Timestamp', 'Wspd', 'Wdir', 'Etmp', 'Itmp', 'Ndir',\n",
    "    'Pab1', 'Prtv', 'Patv', 'hour', 'minute', 'time_index', 'weekday',\n",
    "    'Wdir_sin', 'Wdir_cos', 'is_operating', 'is_idle', 'is_stopped',\n",
    "    'x', 'y'\n",
    "]\n",
    "\n",
    "wtb_features = wtb_df_clean[selected_features]\n",
    "\n",
    "display(wtb_features.head())"
   ]
  },
  {
   "cell_type": "code",
   "execution_count": 28,
   "id": "c810afef",
   "metadata": {},
   "outputs": [],
   "source": [
    "wtb_features.to_csv(\"../data/processed/wtb_features.csv\", index=False)"
   ]
  }
 ],
 "metadata": {
  "kernelspec": {
   "display_name": ".venv",
   "language": "python",
   "name": "python3"
  },
  "language_info": {
   "codemirror_mode": {
    "name": "ipython",
    "version": 3
   },
   "file_extension": ".py",
   "mimetype": "text/x-python",
   "name": "python",
   "nbconvert_exporter": "python",
   "pygments_lexer": "ipython3",
   "version": "3.10.0"
  }
 },
 "nbformat": 4,
 "nbformat_minor": 5
}
