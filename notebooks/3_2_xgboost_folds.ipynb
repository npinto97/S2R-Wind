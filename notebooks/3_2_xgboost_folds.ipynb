{
 "cells": [
  {
   "cell_type": "markdown",
   "id": "54c49c4d",
   "metadata": {},
   "source": [
    "### XGBoost – Fold-Based Evaluation with Separate Train and Test Sets\n",
    "\n",
    "* **Dataset:** Wind turbine power generation data divided into 8 temporal folds using a sliding window approach.\n",
    "* **Per Fold Workflow:**\n",
    "\n",
    "  * Use a specified **percentage of the training set** (e.g., 10%, 20%, 70%, 100%) for training the model.\n",
    "  * Always evaluate on the **separate, fixed test set** associated with each fold.\n",
    "* **XGBoost Model:**\n",
    "\n",
    "  * Hyperparameters (`n_estimators`, `learning_rate`, `max_depth`, etc.) tuned via `GridSearchCV`.\n",
    "  * No feature scaling is required due to the tree-based nature of XGBoost.\n",
    "\n",
    "This evaluation procedure allows a **consistent and fair comparison** with other methods (including semi-supervised ones like S2RMS), by measuring how well the model performs **with limited labeled data**, while keeping the **data splits and evaluation process identical across models**.\n"
   ]
  },
  {
   "cell_type": "code",
   "execution_count": 1,
   "id": "6a09cfd6",
   "metadata": {},
   "outputs": [],
   "source": [
    "import os\n",
    "import pandas as pd\n",
    "import numpy as np\n",
    "import matplotlib.pyplot as plt\n",
    "import seaborn as sns\n",
    "import joblib\n",
    "\n",
    "from xgboost import XGBRegressor\n",
    "from sklearn.model_selection import GridSearchCV\n",
    "from sklearn.metrics import root_mean_squared_error, mean_absolute_error, r2_score\n",
    "from scipy.io import arff\n",
    "\n",
    "sns.set_theme(style=\"whitegrid\")"
   ]
  },
  {
   "cell_type": "code",
   "execution_count": 2,
   "id": "18ec5771",
   "metadata": {},
   "outputs": [],
   "source": [
    "DATA_DIR = \"../data/swdpf/arff_scaled_folds\"\n",
    "RESULTS_DIR = \"../results/xgboost_folds\"\n",
    "os.makedirs(RESULTS_DIR, exist_ok=True)\n",
    "\n",
    "SCALES = [100]\n",
    "FOLDS = range(8)\n",
    "TARGET_COL = \"patv_target_1\"\n",
    "SEED = 42"
   ]
  },
  {
   "cell_type": "code",
   "execution_count": 3,
   "id": "98ba697a",
   "metadata": {},
   "outputs": [],
   "source": [
    "def evaluate_xgboost_on_fold(train_df, test_df, scale, fold):\n",
    "    scale_ratio = scale / 100\n",
    "\n",
    "    # Shuffle il train set per riproducibilità\n",
    "    train_df = train_df.sample(frac=1.0, random_state=SEED+fold).reset_index(drop=True)\n",
    "    n_train = len(train_df)\n",
    "    n_labeled = int(n_train * scale_ratio)\n",
    "\n",
    "    labeled = train_df.iloc[:n_labeled]\n",
    "\n",
    "    X_train = labeled.drop(columns=[TARGET_COL])\n",
    "    y_train = labeled[TARGET_COL]\n",
    "\n",
    "    X_test = test_df.drop(columns=[TARGET_COL])\n",
    "    y_test = test_df[TARGET_COL]\n",
    "\n",
    "    model = XGBRegressor(objective='reg:squarederror', random_state=fold)\n",
    "\n",
    "    param_grid = {\n",
    "        'n_estimators': [100, 200],\n",
    "        'learning_rate': [0.01, 0.1],\n",
    "        'max_depth': [3, 6],\n",
    "        'subsample': [0.8],\n",
    "        'colsample_bytree': [0.8]\n",
    "    }\n",
    "\n",
    "    grid_search = GridSearchCV(\n",
    "        model,\n",
    "        param_grid=param_grid,\n",
    "        scoring='neg_mean_absolute_error',\n",
    "        cv=5,\n",
    "        n_jobs=-1,\n",
    "        verbose=0\n",
    "    )\n",
    "    grid_search.fit(X_train, y_train)\n",
    "    y_pred = grid_search.predict(X_test)\n",
    "\n",
    "    scaler_y_path = os.path.join(DATA_DIR, f\"scaler_y_fold{fold}.joblib\")\n",
    "    scaler_y = joblib.load(scaler_y_path)\n",
    "\n",
    "    y_test_denorm = scaler_y.inverse_transform(y_test.values.reshape(-1, 1)).ravel()\n",
    "    y_pred_denorm = scaler_y.inverse_transform(y_pred.reshape(-1, 1)).ravel()\n",
    "\n",
    "    rmse = root_mean_squared_error(y_test_denorm, y_pred_denorm)\n",
    "    mae = mean_absolute_error(y_test_denorm, y_pred_denorm)\n",
    "    rse = np.sum((y_test_denorm - y_pred_denorm) ** 2) / np.sum((y_test_denorm - np.mean(y_test_denorm)) ** 2)\n",
    "    r2 = r2_score(y_test_denorm, y_pred_denorm)\n",
    "\n",
    "    return {\n",
    "        \"fold\": fold,\n",
    "        \"scale\": scale,\n",
    "        \"rmse\": rmse,\n",
    "        \"mae\": mae,\n",
    "        \"rse\": rse,\n",
    "        \"r2\": r2,\n",
    "        \"n_labeled\": n_labeled,\n",
    "        \"n_train\": n_train,\n",
    "        \"n_test\": len(test_df),\n",
    "        \"best_params\": grid_search.best_params_\n",
    "    }"
   ]
  },
  {
   "cell_type": "code",
   "execution_count": 4,
   "id": "78cf61c1",
   "metadata": {},
   "outputs": [
    {
     "name": "stdout",
     "output_type": "stream",
     "text": [
      "Fold 0 | Scale 100%\n",
      "Fold 1 | Scale 100%\n",
      "Fold 2 | Scale 100%\n",
      "Fold 3 | Scale 100%\n",
      "Fold 4 | Scale 100%\n",
      "Fold 5 | Scale 100%\n",
      "Fold 6 | Scale 100%\n",
      "Fold 7 | Scale 100%\n"
     ]
    }
   ],
   "source": [
    "results = []\n",
    "\n",
    "for fold in FOLDS:\n",
    "    train_arff_path = os.path.join(DATA_DIR, f\"fold{fold}_train.arff\")\n",
    "    test_arff_path = os.path.join(DATA_DIR, f\"fold{fold}_test.arff\")\n",
    "\n",
    "    train_data, _ = arff.loadarff(train_arff_path)\n",
    "    train_df = pd.DataFrame(train_data)\n",
    "\n",
    "    test_data, _ = arff.loadarff(test_arff_path)\n",
    "    test_df = pd.DataFrame(test_data)\n",
    "\n",
    "    for scale in SCALES:\n",
    "        print(f\"Fold {fold} | Scale {scale}%\")\n",
    "        metrics = evaluate_xgboost_on_fold(train_df, test_df, scale, fold)\n",
    "        results.append(metrics)"
   ]
  },
  {
   "cell_type": "code",
   "execution_count": 5,
   "id": "36044dcc",
   "metadata": {},
   "outputs": [
    {
     "name": "stdout",
     "output_type": "stream",
     "text": [
      "Results saved to: ../results/xgboost_folds\\xgboost_fold_results.csv\n"
     ]
    },
    {
     "data": {
      "application/vnd.microsoft.datawrangler.viewer.v0+json": {
       "columns": [
        {
         "name": "index",
         "rawType": "int64",
         "type": "integer"
        },
        {
         "name": "fold",
         "rawType": "int64",
         "type": "integer"
        },
        {
         "name": "scale",
         "rawType": "int64",
         "type": "integer"
        },
        {
         "name": "rmse",
         "rawType": "float64",
         "type": "float"
        },
        {
         "name": "mae",
         "rawType": "float64",
         "type": "float"
        },
        {
         "name": "rse",
         "rawType": "float64",
         "type": "float"
        },
        {
         "name": "r2",
         "rawType": "float64",
         "type": "float"
        },
        {
         "name": "n_labeled",
         "rawType": "int64",
         "type": "integer"
        },
        {
         "name": "n_train",
         "rawType": "int64",
         "type": "integer"
        },
        {
         "name": "n_test",
         "rawType": "int64",
         "type": "integer"
        },
        {
         "name": "best_params",
         "rawType": "object",
         "type": "unknown"
        }
       ],
       "ref": "8520fdf6-2208-4b4d-82eb-eb6f02c6e171",
       "rows": [
        [
         "0",
         "0",
         "100",
         "189.70096190740605",
         "126.09149641463995",
         "0.1662903864641238",
         "0.8337096135358761",
         "23040",
         "23040",
         "10080",
         "{'colsample_bytree': 0.8, 'learning_rate': 0.1, 'max_depth': 6, 'n_estimators': 200, 'subsample': 0.8}"
        ],
        [
         "1",
         "1",
         "100",
         "110.84956919054987",
         "67.3522927650128",
         "0.13285243215913445",
         "0.8671475678408656",
         "23040",
         "23040",
         "10080",
         "{'colsample_bytree': 0.8, 'learning_rate': 0.1, 'max_depth': 6, 'n_estimators': 200, 'subsample': 0.8}"
        ],
        [
         "2",
         "2",
         "100",
         "73.85755393689963",
         "31.24635713486203",
         "0.07377126104411909",
         "0.9262287389558809",
         "23040",
         "23040",
         "10080",
         "{'colsample_bytree': 0.8, 'learning_rate': 0.1, 'max_depth': 6, 'n_estimators': 200, 'subsample': 0.8}"
        ],
        [
         "3",
         "3",
         "100",
         "142.89916253413287",
         "95.70353293095316",
         "0.0817699089816104",
         "0.9182300910183896",
         "23040",
         "23040",
         "10080",
         "{'colsample_bytree': 0.8, 'learning_rate': 0.1, 'max_depth': 6, 'n_estimators': 200, 'subsample': 0.8}"
        ],
        [
         "4",
         "4",
         "100",
         "147.46945608364967",
         "123.15293790995885",
         "0.11325343526006083",
         "0.8867465647399392",
         "23040",
         "23040",
         "10080",
         "{'colsample_bytree': 0.8, 'learning_rate': 0.1, 'max_depth': 6, 'n_estimators': 200, 'subsample': 0.8}"
        ],
        [
         "5",
         "5",
         "100",
         "182.64369191276018",
         "103.51593338260143",
         "0.21644160034811358",
         "0.7835583996518865",
         "23040",
         "23040",
         "10080",
         "{'colsample_bytree': 0.8, 'learning_rate': 0.1, 'max_depth': 6, 'n_estimators': 200, 'subsample': 0.8}"
        ],
        [
         "6",
         "6",
         "100",
         "199.10130876473366",
         "145.16412948478268",
         "0.21055567687391955",
         "0.7894443231260805",
         "23040",
         "23040",
         "10080",
         "{'colsample_bytree': 0.8, 'learning_rate': 0.1, 'max_depth': 6, 'n_estimators': 200, 'subsample': 0.8}"
        ],
        [
         "7",
         "7",
         "100",
         "173.17090465266767",
         "121.99818346759955",
         "0.2228435514661723",
         "0.7771564485338277",
         "23040",
         "23040",
         "10080",
         "{'colsample_bytree': 0.8, 'learning_rate': 0.1, 'max_depth': 6, 'n_estimators': 200, 'subsample': 0.8}"
        ]
       ],
       "shape": {
        "columns": 10,
        "rows": 8
       }
      },
      "text/html": [
       "<div>\n",
       "<style scoped>\n",
       "    .dataframe tbody tr th:only-of-type {\n",
       "        vertical-align: middle;\n",
       "    }\n",
       "\n",
       "    .dataframe tbody tr th {\n",
       "        vertical-align: top;\n",
       "    }\n",
       "\n",
       "    .dataframe thead th {\n",
       "        text-align: right;\n",
       "    }\n",
       "</style>\n",
       "<table border=\"1\" class=\"dataframe\">\n",
       "  <thead>\n",
       "    <tr style=\"text-align: right;\">\n",
       "      <th></th>\n",
       "      <th>fold</th>\n",
       "      <th>scale</th>\n",
       "      <th>rmse</th>\n",
       "      <th>mae</th>\n",
       "      <th>rse</th>\n",
       "      <th>r2</th>\n",
       "      <th>n_labeled</th>\n",
       "      <th>n_train</th>\n",
       "      <th>n_test</th>\n",
       "      <th>best_params</th>\n",
       "    </tr>\n",
       "  </thead>\n",
       "  <tbody>\n",
       "    <tr>\n",
       "      <th>0</th>\n",
       "      <td>0</td>\n",
       "      <td>100</td>\n",
       "      <td>189.700962</td>\n",
       "      <td>126.091496</td>\n",
       "      <td>0.166290</td>\n",
       "      <td>0.833710</td>\n",
       "      <td>23040</td>\n",
       "      <td>23040</td>\n",
       "      <td>10080</td>\n",
       "      <td>{'colsample_bytree': 0.8, 'learning_rate': 0.1...</td>\n",
       "    </tr>\n",
       "    <tr>\n",
       "      <th>1</th>\n",
       "      <td>1</td>\n",
       "      <td>100</td>\n",
       "      <td>110.849569</td>\n",
       "      <td>67.352293</td>\n",
       "      <td>0.132852</td>\n",
       "      <td>0.867148</td>\n",
       "      <td>23040</td>\n",
       "      <td>23040</td>\n",
       "      <td>10080</td>\n",
       "      <td>{'colsample_bytree': 0.8, 'learning_rate': 0.1...</td>\n",
       "    </tr>\n",
       "    <tr>\n",
       "      <th>2</th>\n",
       "      <td>2</td>\n",
       "      <td>100</td>\n",
       "      <td>73.857554</td>\n",
       "      <td>31.246357</td>\n",
       "      <td>0.073771</td>\n",
       "      <td>0.926229</td>\n",
       "      <td>23040</td>\n",
       "      <td>23040</td>\n",
       "      <td>10080</td>\n",
       "      <td>{'colsample_bytree': 0.8, 'learning_rate': 0.1...</td>\n",
       "    </tr>\n",
       "    <tr>\n",
       "      <th>3</th>\n",
       "      <td>3</td>\n",
       "      <td>100</td>\n",
       "      <td>142.899163</td>\n",
       "      <td>95.703533</td>\n",
       "      <td>0.081770</td>\n",
       "      <td>0.918230</td>\n",
       "      <td>23040</td>\n",
       "      <td>23040</td>\n",
       "      <td>10080</td>\n",
       "      <td>{'colsample_bytree': 0.8, 'learning_rate': 0.1...</td>\n",
       "    </tr>\n",
       "    <tr>\n",
       "      <th>4</th>\n",
       "      <td>4</td>\n",
       "      <td>100</td>\n",
       "      <td>147.469456</td>\n",
       "      <td>123.152938</td>\n",
       "      <td>0.113253</td>\n",
       "      <td>0.886747</td>\n",
       "      <td>23040</td>\n",
       "      <td>23040</td>\n",
       "      <td>10080</td>\n",
       "      <td>{'colsample_bytree': 0.8, 'learning_rate': 0.1...</td>\n",
       "    </tr>\n",
       "    <tr>\n",
       "      <th>5</th>\n",
       "      <td>5</td>\n",
       "      <td>100</td>\n",
       "      <td>182.643692</td>\n",
       "      <td>103.515933</td>\n",
       "      <td>0.216442</td>\n",
       "      <td>0.783558</td>\n",
       "      <td>23040</td>\n",
       "      <td>23040</td>\n",
       "      <td>10080</td>\n",
       "      <td>{'colsample_bytree': 0.8, 'learning_rate': 0.1...</td>\n",
       "    </tr>\n",
       "    <tr>\n",
       "      <th>6</th>\n",
       "      <td>6</td>\n",
       "      <td>100</td>\n",
       "      <td>199.101309</td>\n",
       "      <td>145.164129</td>\n",
       "      <td>0.210556</td>\n",
       "      <td>0.789444</td>\n",
       "      <td>23040</td>\n",
       "      <td>23040</td>\n",
       "      <td>10080</td>\n",
       "      <td>{'colsample_bytree': 0.8, 'learning_rate': 0.1...</td>\n",
       "    </tr>\n",
       "    <tr>\n",
       "      <th>7</th>\n",
       "      <td>7</td>\n",
       "      <td>100</td>\n",
       "      <td>173.170905</td>\n",
       "      <td>121.998183</td>\n",
       "      <td>0.222844</td>\n",
       "      <td>0.777156</td>\n",
       "      <td>23040</td>\n",
       "      <td>23040</td>\n",
       "      <td>10080</td>\n",
       "      <td>{'colsample_bytree': 0.8, 'learning_rate': 0.1...</td>\n",
       "    </tr>\n",
       "  </tbody>\n",
       "</table>\n",
       "</div>"
      ],
      "text/plain": [
       "   fold  scale        rmse         mae       rse        r2  n_labeled  \\\n",
       "0     0    100  189.700962  126.091496  0.166290  0.833710      23040   \n",
       "1     1    100  110.849569   67.352293  0.132852  0.867148      23040   \n",
       "2     2    100   73.857554   31.246357  0.073771  0.926229      23040   \n",
       "3     3    100  142.899163   95.703533  0.081770  0.918230      23040   \n",
       "4     4    100  147.469456  123.152938  0.113253  0.886747      23040   \n",
       "5     5    100  182.643692  103.515933  0.216442  0.783558      23040   \n",
       "6     6    100  199.101309  145.164129  0.210556  0.789444      23040   \n",
       "7     7    100  173.170905  121.998183  0.222844  0.777156      23040   \n",
       "\n",
       "   n_train  n_test                                        best_params  \n",
       "0    23040   10080  {'colsample_bytree': 0.8, 'learning_rate': 0.1...  \n",
       "1    23040   10080  {'colsample_bytree': 0.8, 'learning_rate': 0.1...  \n",
       "2    23040   10080  {'colsample_bytree': 0.8, 'learning_rate': 0.1...  \n",
       "3    23040   10080  {'colsample_bytree': 0.8, 'learning_rate': 0.1...  \n",
       "4    23040   10080  {'colsample_bytree': 0.8, 'learning_rate': 0.1...  \n",
       "5    23040   10080  {'colsample_bytree': 0.8, 'learning_rate': 0.1...  \n",
       "6    23040   10080  {'colsample_bytree': 0.8, 'learning_rate': 0.1...  \n",
       "7    23040   10080  {'colsample_bytree': 0.8, 'learning_rate': 0.1...  "
      ]
     },
     "metadata": {},
     "output_type": "display_data"
    }
   ],
   "source": [
    "results_df = pd.DataFrame(results)\n",
    "results_df.to_csv(os.path.join(RESULTS_DIR, \"xgboost_fold_results.csv\"), index=False)\n",
    "\n",
    "print(\"Results saved to:\", os.path.join(RESULTS_DIR, \"xgboost_fold_results.csv\"))\n",
    "display(results_df)"
   ]
  },
  {
   "cell_type": "code",
   "execution_count": 6,
   "id": "4d7a3e2f",
   "metadata": {},
   "outputs": [
    {
     "data": {
      "image/png": "[encoded data removed]",
      "text/plain": [
       "<Figure size 800x500 with 1 Axes>"
      ]
     },
     "metadata": {},
     "output_type": "display_data"
    },
    {
     "data": {
      "image/png": "[encoded data removed]",
      "text/plain": [
       "<Figure size 800x500 with 1 Axes>"
      ]
     },
     "metadata": {},
     "output_type": "display_data"
    },
    {
     "data": {
      "image/png": "[encoded data removed]",
      "text/plain": [
       "<Figure size 800x500 with 1 Axes>"
      ]
     },
     "metadata": {},
     "output_type": "display_data"
    },
    {
     "data": {
      "image/png": "[encoded data removed]",
      "text/plain": [
       "<Figure size 800x500 with 1 Axes>"
      ]
     },
     "metadata": {},
     "output_type": "display_data"
    }
   ],
   "source": [
    "summary_df = results_df.groupby(\"scale\").agg(\n",
    "    rmse_mean=(\"rmse\", \"mean\"),\n",
    "    rmse_std=(\"rmse\", \"std\"),\n",
    "    mae_mean=(\"mae\", \"mean\"),\n",
    "    mae_std=(\"mae\", \"std\"),\n",
    "    rse_mean=(\"rse\", \"mean\"),\n",
    "    rse_std=(\"rse\", \"std\"),\n",
    "    r2_mean=(\"r2\", \"mean\"),\n",
    "    r2_std=(\"r2\", \"std\")\n",
    ").reset_index()\n",
    "\n",
    "def plot_metric(df, metric, ylabel):\n",
    "    plt.figure(figsize=(8, 5))\n",
    "    sns.barplot(\n",
    "        x=\"scale\",\n",
    "        y=f\"{metric}_mean\",\n",
    "        hue=\"scale\",\n",
    "        data=df,\n",
    "        palette=\"viridis\",\n",
    "        legend=False\n",
    "    )\n",
    "    plt.ylabel(ylabel)\n",
    "    plt.title(f\"{ylabel} vs. % Labeled Data (XGBoost)\")\n",
    "    plt.xlabel(\"% Labeled Data (%)\")\n",
    "    plt.tight_layout()\n",
    "    plt.show()\n",
    "\n",
    "plot_metric(summary_df, \"rmse\", \"RMSE\")\n",
    "plot_metric(summary_df, \"mae\", \"MAE\")\n",
    "plot_metric(summary_df, \"rse\", \"RSE\")\n",
    "plot_metric(summary_df, \"r2\", \"R^2\")"
   ]
  }
 ],
 "metadata": {
  "kernelspec": {
   "display_name": ".venv",
   "language": "python",
   "name": "python3"
  },
  "language_info": {
   "codemirror_mode": {
    "name": "ipython",
    "version": 3
   },
   "file_extension": ".py",
   "mimetype": "text/x-python",
   "name": "python",
   "nbconvert_exporter": "python",
   "pygments_lexer": "ipython3",
   "version": "3.10.0"
  }
 },
 "nbformat": 4,
 "nbformat_minor": 5
}
