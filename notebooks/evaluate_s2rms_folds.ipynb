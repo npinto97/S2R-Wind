{
 "cells": [
  {
   "cell_type": "code",
   "execution_count": 29,
   "id": "c91eac60",
   "metadata": {},
   "outputs": [],
   "source": [
    "import os\n",
    "import pandas as pd\n",
    "import matplotlib.pyplot as plt\n",
    "import seaborn as sns\n",
    "\n",
    "sns.set_theme(style=\"whitegrid\")"
   ]
  },
  {
   "cell_type": "code",
   "execution_count": 30,
   "id": "cb98b98e",
   "metadata": {},
   "outputs": [],
   "source": [
    "RESULTS_DIR = \"../results/swdpf_folds\"\n",
    "SCALES = [10, 20, 30]\n",
    "FOLDS = list(range(8))"
   ]
  },
  {
   "cell_type": "code",
   "execution_count": 31,
   "id": "313aa340",
   "metadata": {},
   "outputs": [],
   "source": [
    "all_results = []\n",
    "\n",
    "for scale in SCALES:\n",
    "    for fold in FOLDS:\n",
    "        file_path = os.path.join(RESULTS_DIR, f\"scale_{scale}\", f\"fold{fold}.csv\")\n",
    "        if os.path.exists(file_path):\n",
    "            df = pd.read_csv(file_path)\n",
    "            df['scale'] = scale\n",
    "            df['fold'] = fold\n",
    "            all_results.append(df)\n",
    "        else:\n",
    "            print(f\"Missing file: {file_path}\")\n",
    "\n",
    "results_df = pd.concat(all_results, ignore_index=True)\n"
   ]
  },
  {
   "cell_type": "code",
   "execution_count": 32,
   "id": "eee78a57",
   "metadata": {},
   "outputs": [],
   "source": [
    "summary_df = results_df.groupby(\"scale\").agg(\n",
    "    rmse_mean=(\"rmse\", \"mean\"),\n",
    "    rmse_std=(\"rmse\", \"std\"),\n",
    "    mae_mean=(\"mae\", \"mean\"),\n",
    "    mae_std=(\"mae\", \"std\"),\n",
    "    rse_mean=(\"rse\", \"mean\"),\n",
    "    rse_std=(\"rse\", \"std\"),\n",
    "    fold_count=(\"fold\", \"count\")\n",
    ").reset_index()"
   ]
  },
  {
   "cell_type": "code",
   "execution_count": 33,
   "id": "0060b062",
   "metadata": {},
   "outputs": [
    {
     "name": "stdout",
     "output_type": "stream",
     "text": [
      "Fold-level evaluation results:\n"
     ]
    },
    {
     "data": {
      "application/vnd.microsoft.datawrangler.viewer.v0+json": {
       "columns": [
        {
         "name": "index",
         "rawType": "int64",
         "type": "integer"
        },
        {
         "name": "fold",
         "rawType": "int64",
         "type": "integer"
        },
        {
         "name": "scale",
         "rawType": "int64",
         "type": "integer"
        },
        {
         "name": "rmse",
         "rawType": "float64",
         "type": "float"
        },
        {
         "name": "mae",
         "rawType": "float64",
         "type": "float"
        },
        {
         "name": "rse",
         "rawType": "float64",
         "type": "float"
        }
       ],
       "ref": "8c04b20b-c37a-4d5d-b3cf-521365343dc5",
       "rows": [
        [
         "0",
         "0",
         "10",
         "192.3453584693084",
         "134.64077939221892",
         "0.2257994240530177"
        ],
        [
         "1",
         "1",
         "10",
         "199.9886114147264",
         "155.1469720826585",
         "0.250760398146928"
        ],
        [
         "2",
         "2",
         "10",
         "200.6940709552817",
         "137.89857827493518",
         "0.216911930035181"
        ],
        [
         "3",
         "3",
         "10",
         "178.37302116491725",
         "131.600909685639",
         "0.217194932656664"
        ],
        [
         "4",
         "4",
         "10",
         "198.126460070501",
         "126.53935466861716",
         "0.20908128775292"
        ],
        [
         "5",
         "5",
         "10",
         "195.55927391349869",
         "137.29133441517234",
         "0.223971491964099"
        ],
        [
         "6",
         "6",
         "10",
         "181.26866308484955",
         "139.2672828243108",
         "0.219712829053846"
        ],
        [
         "7",
         "7",
         "10",
         "208.209996288202",
         "130.4775198639862",
         "0.218225615368162"
        ],
        [
         "8",
         "0",
         "20",
         "182.72741077597863",
         "128.5876482237146",
         "0.2037824640101966"
        ],
        [
         "9",
         "1",
         "20",
         "181.7774196535921",
         "140.65386532774625",
         "0.249185730934504"
        ],
        [
         "10",
         "2",
         "20",
         "177.1981306130002",
         "101.86181523770668",
         "0.18851855351527"
        ],
        [
         "11",
         "3",
         "20",
         "143.94982923095822",
         "123.27752332428118",
         "0.205849664405414"
        ],
        [
         "12",
         "4",
         "20",
         "172.75614987166122",
         "141.12020845526584",
         "0.208574922949745"
        ],
        [
         "13",
         "5",
         "20",
         "149.25599867754642",
         "137.81944722496814",
         "0.20581249737066"
        ],
        [
         "14",
         "6",
         "20",
         "160.08722010390727",
         "104.9651918318572",
         "0.196119067969095"
        ],
        [
         "15",
         "7",
         "20",
         "207.06534299670264",
         "125.66633656862425",
         "0.202295990335896"
        ],
        [
         "16",
         "0",
         "30",
         "175.6995285467",
         "123.95097784204",
         "0.1827373005113998"
        ],
        [
         "17",
         "1",
         "30",
         "176.6540381769168",
         "127.5148679537062",
         "0.226045544817438"
        ],
        [
         "18",
         "2",
         "30",
         "156.42016482767997",
         "77.1611620155004",
         "0.181354341985436"
        ],
        [
         "19",
         "3",
         "30",
         "149.3122340923873",
         "97.08415391586584",
         "0.176913469625927"
        ],
        [
         "20",
         "4",
         "30",
         "154.9043067494552",
         "131.05132074653878",
         "0.178235811656913"
        ],
        [
         "21",
         "5",
         "30",
         "121.45633997070912",
         "130.53387409776985",
         "0.172162866300573"
        ],
        [
         "22",
         "6",
         "30",
         "160.8187831760299",
         "101.01938200534264",
         "0.192749220747588"
        ],
        [
         "23",
         "7",
         "30",
         "176.59828641337134",
         "129.12901123710452",
         "0.174491731871057"
        ]
       ],
       "shape": {
        "columns": 5,
        "rows": 24
       }
      },
      "text/html": [
       "<div>\n",
       "<style scoped>\n",
       "    .dataframe tbody tr th:only-of-type {\n",
       "        vertical-align: middle;\n",
       "    }\n",
       "\n",
       "    .dataframe tbody tr th {\n",
       "        vertical-align: top;\n",
       "    }\n",
       "\n",
       "    .dataframe thead th {\n",
       "        text-align: right;\n",
       "    }\n",
       "</style>\n",
       "<table border=\"1\" class=\"dataframe\">\n",
       "  <thead>\n",
       "    <tr style=\"text-align: right;\">\n",
       "      <th></th>\n",
       "      <th>fold</th>\n",
       "      <th>scale</th>\n",
       "      <th>rmse</th>\n",
       "      <th>mae</th>\n",
       "      <th>rse</th>\n",
       "    </tr>\n",
       "  </thead>\n",
       "  <tbody>\n",
       "    <tr>\n",
       "      <th>0</th>\n",
       "      <td>0</td>\n",
       "      <td>10</td>\n",
       "      <td>192.345358</td>\n",
       "      <td>134.640779</td>\n",
       "      <td>0.225799</td>\n",
       "    </tr>\n",
       "    <tr>\n",
       "      <th>1</th>\n",
       "      <td>1</td>\n",
       "      <td>10</td>\n",
       "      <td>199.988611</td>\n",
       "      <td>155.146972</td>\n",
       "      <td>0.250760</td>\n",
       "    </tr>\n",
       "    <tr>\n",
       "      <th>2</th>\n",
       "      <td>2</td>\n",
       "      <td>10</td>\n",
       "      <td>200.694071</td>\n",
       "      <td>137.898578</td>\n",
       "      <td>0.216912</td>\n",
       "    </tr>\n",
       "    <tr>\n",
       "      <th>3</th>\n",
       "      <td>3</td>\n",
       "      <td>10</td>\n",
       "      <td>178.373021</td>\n",
       "      <td>131.600910</td>\n",
       "      <td>0.217195</td>\n",
       "    </tr>\n",
       "    <tr>\n",
       "      <th>4</th>\n",
       "      <td>4</td>\n",
       "      <td>10</td>\n",
       "      <td>198.126460</td>\n",
       "      <td>126.539355</td>\n",
       "      <td>0.209081</td>\n",
       "    </tr>\n",
       "    <tr>\n",
       "      <th>5</th>\n",
       "      <td>5</td>\n",
       "      <td>10</td>\n",
       "      <td>195.559274</td>\n",
       "      <td>137.291334</td>\n",
       "      <td>0.223971</td>\n",
       "    </tr>\n",
       "    <tr>\n",
       "      <th>6</th>\n",
       "      <td>6</td>\n",
       "      <td>10</td>\n",
       "      <td>181.268663</td>\n",
       "      <td>139.267283</td>\n",
       "      <td>0.219713</td>\n",
       "    </tr>\n",
       "    <tr>\n",
       "      <th>7</th>\n",
       "      <td>7</td>\n",
       "      <td>10</td>\n",
       "      <td>208.209996</td>\n",
       "      <td>130.477520</td>\n",
       "      <td>0.218226</td>\n",
       "    </tr>\n",
       "    <tr>\n",
       "      <th>8</th>\n",
       "      <td>0</td>\n",
       "      <td>20</td>\n",
       "      <td>182.727411</td>\n",
       "      <td>128.587648</td>\n",
       "      <td>0.203782</td>\n",
       "    </tr>\n",
       "    <tr>\n",
       "      <th>9</th>\n",
       "      <td>1</td>\n",
       "      <td>20</td>\n",
       "      <td>181.777420</td>\n",
       "      <td>140.653865</td>\n",
       "      <td>0.249186</td>\n",
       "    </tr>\n",
       "    <tr>\n",
       "      <th>10</th>\n",
       "      <td>2</td>\n",
       "      <td>20</td>\n",
       "      <td>177.198131</td>\n",
       "      <td>101.861815</td>\n",
       "      <td>0.188519</td>\n",
       "    </tr>\n",
       "    <tr>\n",
       "      <th>11</th>\n",
       "      <td>3</td>\n",
       "      <td>20</td>\n",
       "      <td>143.949829</td>\n",
       "      <td>123.277523</td>\n",
       "      <td>0.205850</td>\n",
       "    </tr>\n",
       "    <tr>\n",
       "      <th>12</th>\n",
       "      <td>4</td>\n",
       "      <td>20</td>\n",
       "      <td>172.756150</td>\n",
       "      <td>141.120208</td>\n",
       "      <td>0.208575</td>\n",
       "    </tr>\n",
       "    <tr>\n",
       "      <th>13</th>\n",
       "      <td>5</td>\n",
       "      <td>20</td>\n",
       "      <td>149.255999</td>\n",
       "      <td>137.819447</td>\n",
       "      <td>0.205812</td>\n",
       "    </tr>\n",
       "    <tr>\n",
       "      <th>14</th>\n",
       "      <td>6</td>\n",
       "      <td>20</td>\n",
       "      <td>160.087220</td>\n",
       "      <td>104.965192</td>\n",
       "      <td>0.196119</td>\n",
       "    </tr>\n",
       "    <tr>\n",
       "      <th>15</th>\n",
       "      <td>7</td>\n",
       "      <td>20</td>\n",
       "      <td>207.065343</td>\n",
       "      <td>125.666337</td>\n",
       "      <td>0.202296</td>\n",
       "    </tr>\n",
       "    <tr>\n",
       "      <th>16</th>\n",
       "      <td>0</td>\n",
       "      <td>30</td>\n",
       "      <td>175.699529</td>\n",
       "      <td>123.950978</td>\n",
       "      <td>0.182737</td>\n",
       "    </tr>\n",
       "    <tr>\n",
       "      <th>17</th>\n",
       "      <td>1</td>\n",
       "      <td>30</td>\n",
       "      <td>176.654038</td>\n",
       "      <td>127.514868</td>\n",
       "      <td>0.226046</td>\n",
       "    </tr>\n",
       "    <tr>\n",
       "      <th>18</th>\n",
       "      <td>2</td>\n",
       "      <td>30</td>\n",
       "      <td>156.420165</td>\n",
       "      <td>77.161162</td>\n",
       "      <td>0.181354</td>\n",
       "    </tr>\n",
       "    <tr>\n",
       "      <th>19</th>\n",
       "      <td>3</td>\n",
       "      <td>30</td>\n",
       "      <td>149.312234</td>\n",
       "      <td>97.084154</td>\n",
       "      <td>0.176913</td>\n",
       "    </tr>\n",
       "    <tr>\n",
       "      <th>20</th>\n",
       "      <td>4</td>\n",
       "      <td>30</td>\n",
       "      <td>154.904307</td>\n",
       "      <td>131.051321</td>\n",
       "      <td>0.178236</td>\n",
       "    </tr>\n",
       "    <tr>\n",
       "      <th>21</th>\n",
       "      <td>5</td>\n",
       "      <td>30</td>\n",
       "      <td>121.456340</td>\n",
       "      <td>130.533874</td>\n",
       "      <td>0.172163</td>\n",
       "    </tr>\n",
       "    <tr>\n",
       "      <th>22</th>\n",
       "      <td>6</td>\n",
       "      <td>30</td>\n",
       "      <td>160.818783</td>\n",
       "      <td>101.019382</td>\n",
       "      <td>0.192749</td>\n",
       "    </tr>\n",
       "    <tr>\n",
       "      <th>23</th>\n",
       "      <td>7</td>\n",
       "      <td>30</td>\n",
       "      <td>176.598286</td>\n",
       "      <td>129.129011</td>\n",
       "      <td>0.174492</td>\n",
       "    </tr>\n",
       "  </tbody>\n",
       "</table>\n",
       "</div>"
      ],
      "text/plain": [
       "    fold  scale        rmse         mae       rse\n",
       "0      0     10  192.345358  134.640779  0.225799\n",
       "1      1     10  199.988611  155.146972  0.250760\n",
       "2      2     10  200.694071  137.898578  0.216912\n",
       "3      3     10  178.373021  131.600910  0.217195\n",
       "4      4     10  198.126460  126.539355  0.209081\n",
       "5      5     10  195.559274  137.291334  0.223971\n",
       "6      6     10  181.268663  139.267283  0.219713\n",
       "7      7     10  208.209996  130.477520  0.218226\n",
       "8      0     20  182.727411  128.587648  0.203782\n",
       "9      1     20  181.777420  140.653865  0.249186\n",
       "10     2     20  177.198131  101.861815  0.188519\n",
       "11     3     20  143.949829  123.277523  0.205850\n",
       "12     4     20  172.756150  141.120208  0.208575\n",
       "13     5     20  149.255999  137.819447  0.205812\n",
       "14     6     20  160.087220  104.965192  0.196119\n",
       "15     7     20  207.065343  125.666337  0.202296\n",
       "16     0     30  175.699529  123.950978  0.182737\n",
       "17     1     30  176.654038  127.514868  0.226046\n",
       "18     2     30  156.420165   77.161162  0.181354\n",
       "19     3     30  149.312234   97.084154  0.176913\n",
       "20     4     30  154.904307  131.051321  0.178236\n",
       "21     5     30  121.456340  130.533874  0.172163\n",
       "22     6     30  160.818783  101.019382  0.192749\n",
       "23     7     30  176.598286  129.129011  0.174492"
      ]
     },
     "metadata": {},
     "output_type": "display_data"
    },
    {
     "name": "stdout",
     "output_type": "stream",
     "text": [
      "Aggregated summary by scale:\n"
     ]
    },
    {
     "data": {
      "application/vnd.microsoft.datawrangler.viewer.v0+json": {
       "columns": [
        {
         "name": "index",
         "rawType": "int64",
         "type": "integer"
        },
        {
         "name": "scale",
         "rawType": "int64",
         "type": "integer"
        },
        {
         "name": "rmse_mean",
         "rawType": "float64",
         "type": "float"
        },
        {
         "name": "rmse_std",
         "rawType": "float64",
         "type": "float"
        },
        {
         "name": "mae_mean",
         "rawType": "float64",
         "type": "float"
        },
        {
         "name": "mae_std",
         "rawType": "float64",
         "type": "float"
        },
        {
         "name": "rse_mean",
         "rawType": "float64",
         "type": "float"
        },
        {
         "name": "rse_std",
         "rawType": "float64",
         "type": "float"
        },
        {
         "name": "fold_count",
         "rawType": "int64",
         "type": "integer"
        }
       ],
       "ref": "7ed24bf0-3406-4214-9bd2-1944d0606197",
       "rows": [
        [
         "0",
         "10",
         "194.3206819201606",
         "10.073030510054004",
         "136.60784140094228",
         "8.625536214137748",
         "0.22270723862885222",
         "0.012402930517730653",
         "8"
        ],
        [
         "1",
         "20",
         "171.85218774041834",
         "20.401985528311148",
         "125.49400452427051",
         "15.214381383887575",
         "0.20751736143634758",
         "0.018028339592347706",
         "8"
        ],
        [
         "2",
         "30",
         "158.9829602441562",
         "18.63312764609959",
         "114.68059372673353",
         "20.293256242478215",
         "0.18558628593954146",
         "0.01751248481751183",
         "8"
        ]
       ],
       "shape": {
        "columns": 8,
        "rows": 3
       }
      },
      "text/html": [
       "<div>\n",
       "<style scoped>\n",
       "    .dataframe tbody tr th:only-of-type {\n",
       "        vertical-align: middle;\n",
       "    }\n",
       "\n",
       "    .dataframe tbody tr th {\n",
       "        vertical-align: top;\n",
       "    }\n",
       "\n",
       "    .dataframe thead th {\n",
       "        text-align: right;\n",
       "    }\n",
       "</style>\n",
       "<table border=\"1\" class=\"dataframe\">\n",
       "  <thead>\n",
       "    <tr style=\"text-align: right;\">\n",
       "      <th></th>\n",
       "      <th>scale</th>\n",
       "      <th>rmse_mean</th>\n",
       "      <th>rmse_std</th>\n",
       "      <th>mae_mean</th>\n",
       "      <th>mae_std</th>\n",
       "      <th>rse_mean</th>\n",
       "      <th>rse_std</th>\n",
       "      <th>fold_count</th>\n",
       "    </tr>\n",
       "  </thead>\n",
       "  <tbody>\n",
       "    <tr>\n",
       "      <th>0</th>\n",
       "      <td>10</td>\n",
       "      <td>194.320682</td>\n",
       "      <td>10.073031</td>\n",
       "      <td>136.607841</td>\n",
       "      <td>8.625536</td>\n",
       "      <td>0.222707</td>\n",
       "      <td>0.012403</td>\n",
       "      <td>8</td>\n",
       "    </tr>\n",
       "    <tr>\n",
       "      <th>1</th>\n",
       "      <td>20</td>\n",
       "      <td>171.852188</td>\n",
       "      <td>20.401986</td>\n",
       "      <td>125.494005</td>\n",
       "      <td>15.214381</td>\n",
       "      <td>0.207517</td>\n",
       "      <td>0.018028</td>\n",
       "      <td>8</td>\n",
       "    </tr>\n",
       "    <tr>\n",
       "      <th>2</th>\n",
       "      <td>30</td>\n",
       "      <td>158.982960</td>\n",
       "      <td>18.633128</td>\n",
       "      <td>114.680594</td>\n",
       "      <td>20.293256</td>\n",
       "      <td>0.185586</td>\n",
       "      <td>0.017512</td>\n",
       "      <td>8</td>\n",
       "    </tr>\n",
       "  </tbody>\n",
       "</table>\n",
       "</div>"
      ],
      "text/plain": [
       "   scale   rmse_mean   rmse_std    mae_mean    mae_std  rse_mean   rse_std  \\\n",
       "0     10  194.320682  10.073031  136.607841   8.625536  0.222707  0.012403   \n",
       "1     20  171.852188  20.401986  125.494005  15.214381  0.207517  0.018028   \n",
       "2     30  158.982960  18.633128  114.680594  20.293256  0.185586  0.017512   \n",
       "\n",
       "   fold_count  \n",
       "0           8  \n",
       "1           8  \n",
       "2           8  "
      ]
     },
     "metadata": {},
     "output_type": "display_data"
    }
   ],
   "source": [
    "print(\"Fold-level evaluation results:\")\n",
    "display(results_df.sort_values([\"scale\", \"fold\"]))\n",
    "\n",
    "print(\"Aggregated summary by scale:\")\n",
    "display(summary_df)"
   ]
  },
  {
   "cell_type": "markdown",
   "id": "62d9e4e5",
   "metadata": {},
   "source": [
    "Here we visualize the trends of each evaluation metric (RMSE, MAE, RSE) with respect to the amount of labeled data."
   ]
  },
  {
   "cell_type": "code",
   "execution_count": 34,
   "id": "244d86d5",
   "metadata": {},
   "outputs": [],
   "source": [
    "def plot_metric(metric_name, y_label):\n",
    "    data = summary_df.copy()\n",
    "\n",
    "    data[\"scale\"] = data[\"scale\"].astype(str)\n",
    "\n",
    "    plt.figure(figsize=(8, 5))\n",
    "\n",
    "    ax = sns.barplot(\n",
    "        data=data,\n",
    "        x=\"scale\",\n",
    "        y=f\"{metric_name}_mean\",\n",
    "        hue=\"scale\",         \n",
    "        palette=\"crest\",\n",
    "        legend=False,\n",
    "        errorbar=None        \n",
    "    )\n",
    "\n",
    "    if len(data) > 1 and f\"{metric_name}_std\" in data.columns:\n",
    "        yerr = data[f\"{metric_name}_std\"].values\n",
    "        for idx, bar in enumerate(ax.patches):\n",
    "            height = bar.get_height()\n",
    "            err = yerr[idx]\n",
    "            ax.errorbar(\n",
    "                x=bar.get_x() + bar.get_width() / 2,\n",
    "                y=height,\n",
    "                yerr=err,\n",
    "                fmt='none',\n",
    "                ecolor='black',\n",
    "                capsize=5,\n",
    "                linewidth=1.5\n",
    "            )\n",
    "\n",
    "    ax.set_title(f\"{metric_name.upper()} vs. % Labeled Data\")\n",
    "    ax.set_xlabel(\"Labeled Data (%)\")\n",
    "    ax.set_ylabel(y_label)\n",
    "\n",
    "    for p in ax.patches:\n",
    "        height = p.get_height()\n",
    "        ax.annotate(f'{height:.1f}', (p.get_x() + p.get_width() / 2, height),\n",
    "                    ha='center', va='bottom', fontsize=9)\n",
    "\n",
    "    plt.tight_layout()\n",
    "    plt.show()\n"
   ]
  },
  {
   "cell_type": "code",
   "execution_count": 35,
   "id": "b2f69cc4",
   "metadata": {},
   "outputs": [
    {
     "data": {
      "image/png": "[encoded data removed]",
      "text/plain": [
       "<Figure size 800x500 with 1 Axes>"
      ]
     },
     "metadata": {},
     "output_type": "display_data"
    },
    {
     "data": {
      "image/png": "[encoded data removed]",
      "text/plain": [
       "<Figure size 800x500 with 1 Axes>"
      ]
     },
     "metadata": {},
     "output_type": "display_data"
    },
    {
     "data": {
      "image/png": "[encoded data removed]",
      "text/plain": [
       "<Figure size 800x500 with 1 Axes>"
      ]
     },
     "metadata": {},
     "output_type": "display_data"
    }
   ],
   "source": [
    "plot_metric(\"rmse\", \"Root Mean Squared Error (RMSE)\")\n",
    "plot_metric(\"mae\", \"Mean Absolute Error (MAE)\")\n",
    "plot_metric(\"rse\", \"Relative Squared Error (RSE)\")"
   ]
  }
 ],
 "metadata": {
  "kernelspec": {
   "display_name": ".venv",
   "language": "python",
   "name": "python3"
  },
  "language_info": {
   "codemirror_mode": {
    "name": "ipython",
    "version": 3
   },
   "file_extension": ".py",
   "mimetype": "text/x-python",
   "name": "python",
   "nbconvert_exporter": "python",
   "pygments_lexer": "ipython3",
   "version": "3.10.0"
  }
 },
 "nbformat": 4,
 "nbformat_minor": 5
}
