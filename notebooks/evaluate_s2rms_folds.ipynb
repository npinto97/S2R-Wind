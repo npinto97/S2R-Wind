{
 "cells": [
  {
   "cell_type": "code",
   "execution_count": null,
   "id": "c91eac60",
   "metadata": {},
   "outputs": [],
   "source": [
    "import os\n",
    "import pandas as pd\n",
    "import matplotlib.pyplot as plt\n",
    "import seaborn as sns\n",
    "\n",
    "sns.set_theme(style=\"whitegrid\")"
   ]
  },
  {
   "cell_type": "code",
   "execution_count": null,
   "id": "cb98b98e",
   "metadata": {},
   "outputs": [],
   "source": [
    "# === CONFIGURATION ===\n",
    "RESULTS_DIR = \"../results/swdpf_folds\"  # Base directory containing results per scale/fold\n",
    "SCALES = [10, 20, 30]  # Percent of labeled data\n",
    "FOLDS = list(range(8))  # Fold indices (0–7)"
   ]
  },
  {
   "cell_type": "code",
   "execution_count": null,
   "id": "313aa340",
   "metadata": {},
   "outputs": [],
   "source": [
    "# === Load fold-level results ===\n",
    "all_results = []\n",
    "\n",
    "for scale in SCALES:\n",
    "    for fold in FOLDS:\n",
    "        file_path = os.path.join(RESULTS_DIR, f\"scale_{scale}\", f\"fold{fold}.csv\")\n",
    "        if os.path.exists(file_path):\n",
    "            df = pd.read_csv(file_path)\n",
    "            df['scale'] = scale\n",
    "            df['fold'] = fold\n",
    "            all_results.append(df)\n",
    "        else:\n",
    "            print(f\"Missing file: {file_path}\")\n",
    "\n",
    "results_df = pd.concat(all_results, ignore_index=True)\n"
   ]
  },
  {
   "cell_type": "code",
   "execution_count": null,
   "id": "eee78a57",
   "metadata": {},
   "outputs": [],
   "source": [
    "# === Aggregate metrics by scale ===\n",
    "summary_df = results_df.groupby(\"scale\").agg(\n",
    "    rmse_mean=(\"rmse\", \"mean\"),\n",
    "    rmse_std=(\"rmse\", \"std\"),\n",
    "    mae_mean=(\"mae\", \"mean\"),\n",
    "    mae_std=(\"mae\", \"std\"),\n",
    "    rse_mean=(\"rse\", \"mean\"),\n",
    "    rse_std=(\"rse\", \"std\"),\n",
    "    fold_count=(\"fold\", \"count\")\n",
    ").reset_index()"
   ]
  },
  {
   "cell_type": "code",
   "execution_count": null,
   "id": "0060b062",
   "metadata": {},
   "outputs": [],
   "source": [
    "# === Display fold-level results ===\n",
    "print(\"Fold-level evaluation results:\")\n",
    "display(results_df.sort_values([\"scale\", \"fold\"]))\n",
    "\n",
    "# === Display summary across folds ===\n",
    "print(\"Aggregated summary by scale:\")\n",
    "display(summary_df)"
   ]
  },
  {
   "cell_type": "markdown",
   "id": "62d9e4e5",
   "metadata": {},
   "source": [
    "Here we visualize the trends of each evaluation metric (RMSE, MAE, RSE) with respect to the amount of labeled data."
   ]
  },
  {
   "cell_type": "code",
   "execution_count": null,
   "id": "244d86d5",
   "metadata": {},
   "outputs": [],
   "source": [
    "def plot_metric(metric_name, y_label):\n",
    "    plt.figure(figsize=(8, 5))\n",
    "    ax = sns.barplot(\n",
    "        data=summary_df,\n",
    "        x=\"scale\",\n",
    "        y=f\"{metric_name}_mean\",\n",
    "        yerr=summary_df[f\"{metric_name}_std\"],\n",
    "        palette=\"crest\"\n",
    "    )\n",
    "    ax.set_title(f\"{metric_name.upper()} vs. % Labeled Data\")\n",
    "    ax.set_xlabel(\"Labeled Data (%)\")\n",
    "    ax.set_ylabel(y_label)\n",
    "    plt.tight_layout()\n",
    "    plt.show()\n",
    "\n",
    "# === Plot all key metrics ===\n",
    "plot_metric(\"rmse\", \"Root Mean Squared Error (RMSE)\")\n",
    "plot_metric(\"mae\", \"Mean Absolute Error (MAE)\")\n",
    "plot_metric(\"rse\", \"Relative Squared Error (RSE)\")"
   ]
  }
 ],
 "metadata": {
  "language_info": {
   "name": "python"
  }
 },
 "nbformat": 4,
 "nbformat_minor": 5
}
