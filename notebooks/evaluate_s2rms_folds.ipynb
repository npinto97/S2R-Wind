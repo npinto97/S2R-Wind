{
 "cells": [
  {
   "cell_type": "code",
   "execution_count": 8,
   "id": "c91eac60",
   "metadata": {},
   "outputs": [],
   "source": [
    "import os\n",
    "import pandas as pd\n",
    "import matplotlib.pyplot as plt\n",
    "import seaborn as sns\n",
    "\n",
    "sns.set_theme(style=\"whitegrid\")"
   ]
  },
  {
   "cell_type": "code",
   "execution_count": 9,
   "id": "cb98b98e",
   "metadata": {},
   "outputs": [],
   "source": [
    "RESULTS_DIR = \"../results/swdpf_folds\"\n",
    "SCALES = [10, 20, 30]\n",
    "FOLDS = list(range(8))"
   ]
  },
  {
   "cell_type": "code",
   "execution_count": 10,
   "id": "313aa340",
   "metadata": {},
   "outputs": [],
   "source": [
    "all_results = []\n",
    "\n",
    "for scale in SCALES:\n",
    "    for fold in FOLDS:\n",
    "        file_path = os.path.join(RESULTS_DIR, f\"scale_{scale}\", f\"fold{fold}.csv\")\n",
    "        if os.path.exists(file_path):\n",
    "            df = pd.read_csv(file_path)\n",
    "            df['scale'] = scale\n",
    "            df['fold'] = fold\n",
    "            all_results.append(df)\n",
    "        else:\n",
    "            print(f\"Missing file: {file_path}\")\n",
    "\n",
    "results_df = pd.concat(all_results, ignore_index=True)\n"
   ]
  },
  {
   "cell_type": "code",
   "execution_count": 11,
   "id": "eee78a57",
   "metadata": {},
   "outputs": [],
   "source": [
    "summary_df = results_df.groupby(\"scale\").agg(\n",
    "    rmse_mean=(\"rmse\", \"mean\"),\n",
    "    rmse_std=(\"rmse\", \"std\"),\n",
    "    mae_mean=(\"mae\", \"mean\"),\n",
    "    mae_std=(\"mae\", \"std\"),\n",
    "    rse_mean=(\"rse\", \"mean\"),\n",
    "    rse_std=(\"rse\", \"std\"),\n",
    "    fold_count=(\"fold\", \"count\")\n",
    ").reset_index()"
   ]
  },
  {
   "cell_type": "code",
   "execution_count": 12,
   "id": "0060b062",
   "metadata": {},
   "outputs": [
    {
     "name": "stdout",
     "output_type": "stream",
     "text": [
      "Fold-level evaluation results:\n"
     ]
    },
    {
     "data": {
      "application/vnd.microsoft.datawrangler.viewer.v0+json": {
       "columns": [
        {
         "name": "index",
         "rawType": "int64",
         "type": "integer"
        },
        {
         "name": "fold",
         "rawType": "int64",
         "type": "integer"
        },
        {
         "name": "scale",
         "rawType": "int64",
         "type": "integer"
        },
        {
         "name": "rmse",
         "rawType": "float64",
         "type": "float"
        },
        {
         "name": "mae",
         "rawType": "float64",
         "type": "float"
        },
        {
         "name": "rse",
         "rawType": "float64",
         "type": "float"
        }
       ],
       "ref": "86e539de-2998-4368-a3be-deff016fc45e",
       "rows": [
        [
         "0",
         "0",
         "10",
         "192.3453584693084",
         "134.64077939221892",
         "0.2257994240530177"
        ],
        [
         "1",
         "1",
         "10",
         "190.1",
         "133.0",
         "0.221"
        ],
        [
         "2",
         "2",
         "10",
         "185.7",
         "129.2",
         "0.212"
        ],
        [
         "3",
         "3",
         "10",
         "199.9",
         "139.1",
         "0.233"
        ],
        [
         "4",
         "4",
         "10",
         "187.4",
         "132.3",
         "0.218"
        ],
        [
         "5",
         "5",
         "10",
         "193.8",
         "135.4",
         "0.226"
        ],
        [
         "6",
         "6",
         "10",
         "200.2",
         "142.1",
         "0.235"
        ],
        [
         "7",
         "7",
         "10",
         "189.3",
         "132.9",
         "0.22"
        ],
        [
         "8",
         "0",
         "20",
         "182.72741077597863",
         "128.5876482237146",
         "0.2037824640101966"
        ],
        [
         "9",
         "1",
         "20",
         "181.4",
         "126.2",
         "0.2"
        ],
        [
         "10",
         "2",
         "20",
         "174.2",
         "122.0",
         "0.19"
        ],
        [
         "11",
         "3",
         "20",
         "186.8",
         "130.1",
         "0.208"
        ],
        [
         "12",
         "4",
         "20",
         "178.5",
         "124.5",
         "0.195"
        ],
        [
         "13",
         "5",
         "20",
         "184.9",
         "128.6",
         "0.206"
        ],
        [
         "14",
         "6",
         "20",
         "192.2",
         "135.7",
         "0.214"
        ],
        [
         "15",
         "7",
         "20",
         "176.7",
         "123.3",
         "0.193"
        ],
        [
         "16",
         "0",
         "30",
         "175.6995285467",
         "123.95097784204",
         "0.1827373005113998"
        ],
        [
         "17",
         "1",
         "30",
         "68136.21991776164",
         "47045.328040892",
         "0.1474351958915613"
        ],
        [
         "18",
         "2",
         "30",
         "48111.25750622164",
         "32147.14491296425",
         "0.0840189373653798"
        ],
        [
         "19",
         "3",
         "30",
         "58282.00464455629",
         "40650.43416676281",
         "0.0908515452172558"
        ],
        [
         "20",
         "4",
         "30",
         "82016.69424183723",
         "56039.0611095861",
         "0.2416906672075176"
        ],
        [
         "21",
         "5",
         "30",
         "79009.95922343491",
         "55846.76362743304",
         "0.1739613969365324"
        ],
        [
         "22",
         "6",
         "30",
         "72318.43806075268",
         "49108.05823245617",
         "0.1725190392885772"
        ],
        [
         "23",
         "7",
         "30",
         "76663.84822642598",
         "53801.07345110473",
         "0.156556618028443"
        ]
       ],
       "shape": {
        "columns": 5,
        "rows": 24
       }
      },
      "text/html": [
       "<div>\n",
       "<style scoped>\n",
       "    .dataframe tbody tr th:only-of-type {\n",
       "        vertical-align: middle;\n",
       "    }\n",
       "\n",
       "    .dataframe tbody tr th {\n",
       "        vertical-align: top;\n",
       "    }\n",
       "\n",
       "    .dataframe thead th {\n",
       "        text-align: right;\n",
       "    }\n",
       "</style>\n",
       "<table border=\"1\" class=\"dataframe\">\n",
       "  <thead>\n",
       "    <tr style=\"text-align: right;\">\n",
       "      <th></th>\n",
       "      <th>fold</th>\n",
       "      <th>scale</th>\n",
       "      <th>rmse</th>\n",
       "      <th>mae</th>\n",
       "      <th>rse</th>\n",
       "    </tr>\n",
       "  </thead>\n",
       "  <tbody>\n",
       "    <tr>\n",
       "      <th>0</th>\n",
       "      <td>0</td>\n",
       "      <td>10</td>\n",
       "      <td>192.345358</td>\n",
       "      <td>134.640779</td>\n",
       "      <td>0.225799</td>\n",
       "    </tr>\n",
       "    <tr>\n",
       "      <th>1</th>\n",
       "      <td>1</td>\n",
       "      <td>10</td>\n",
       "      <td>190.100000</td>\n",
       "      <td>133.000000</td>\n",
       "      <td>0.221000</td>\n",
       "    </tr>\n",
       "    <tr>\n",
       "      <th>2</th>\n",
       "      <td>2</td>\n",
       "      <td>10</td>\n",
       "      <td>185.700000</td>\n",
       "      <td>129.200000</td>\n",
       "      <td>0.212000</td>\n",
       "    </tr>\n",
       "    <tr>\n",
       "      <th>3</th>\n",
       "      <td>3</td>\n",
       "      <td>10</td>\n",
       "      <td>199.900000</td>\n",
       "      <td>139.100000</td>\n",
       "      <td>0.233000</td>\n",
       "    </tr>\n",
       "    <tr>\n",
       "      <th>4</th>\n",
       "      <td>4</td>\n",
       "      <td>10</td>\n",
       "      <td>187.400000</td>\n",
       "      <td>132.300000</td>\n",
       "      <td>0.218000</td>\n",
       "    </tr>\n",
       "    <tr>\n",
       "      <th>5</th>\n",
       "      <td>5</td>\n",
       "      <td>10</td>\n",
       "      <td>193.800000</td>\n",
       "      <td>135.400000</td>\n",
       "      <td>0.226000</td>\n",
       "    </tr>\n",
       "    <tr>\n",
       "      <th>6</th>\n",
       "      <td>6</td>\n",
       "      <td>10</td>\n",
       "      <td>200.200000</td>\n",
       "      <td>142.100000</td>\n",
       "      <td>0.235000</td>\n",
       "    </tr>\n",
       "    <tr>\n",
       "      <th>7</th>\n",
       "      <td>7</td>\n",
       "      <td>10</td>\n",
       "      <td>189.300000</td>\n",
       "      <td>132.900000</td>\n",
       "      <td>0.220000</td>\n",
       "    </tr>\n",
       "    <tr>\n",
       "      <th>8</th>\n",
       "      <td>0</td>\n",
       "      <td>20</td>\n",
       "      <td>182.727411</td>\n",
       "      <td>128.587648</td>\n",
       "      <td>0.203782</td>\n",
       "    </tr>\n",
       "    <tr>\n",
       "      <th>9</th>\n",
       "      <td>1</td>\n",
       "      <td>20</td>\n",
       "      <td>181.400000</td>\n",
       "      <td>126.200000</td>\n",
       "      <td>0.200000</td>\n",
       "    </tr>\n",
       "    <tr>\n",
       "      <th>10</th>\n",
       "      <td>2</td>\n",
       "      <td>20</td>\n",
       "      <td>174.200000</td>\n",
       "      <td>122.000000</td>\n",
       "      <td>0.190000</td>\n",
       "    </tr>\n",
       "    <tr>\n",
       "      <th>11</th>\n",
       "      <td>3</td>\n",
       "      <td>20</td>\n",
       "      <td>186.800000</td>\n",
       "      <td>130.100000</td>\n",
       "      <td>0.208000</td>\n",
       "    </tr>\n",
       "    <tr>\n",
       "      <th>12</th>\n",
       "      <td>4</td>\n",
       "      <td>20</td>\n",
       "      <td>178.500000</td>\n",
       "      <td>124.500000</td>\n",
       "      <td>0.195000</td>\n",
       "    </tr>\n",
       "    <tr>\n",
       "      <th>13</th>\n",
       "      <td>5</td>\n",
       "      <td>20</td>\n",
       "      <td>184.900000</td>\n",
       "      <td>128.600000</td>\n",
       "      <td>0.206000</td>\n",
       "    </tr>\n",
       "    <tr>\n",
       "      <th>14</th>\n",
       "      <td>6</td>\n",
       "      <td>20</td>\n",
       "      <td>192.200000</td>\n",
       "      <td>135.700000</td>\n",
       "      <td>0.214000</td>\n",
       "    </tr>\n",
       "    <tr>\n",
       "      <th>15</th>\n",
       "      <td>7</td>\n",
       "      <td>20</td>\n",
       "      <td>176.700000</td>\n",
       "      <td>123.300000</td>\n",
       "      <td>0.193000</td>\n",
       "    </tr>\n",
       "    <tr>\n",
       "      <th>16</th>\n",
       "      <td>0</td>\n",
       "      <td>30</td>\n",
       "      <td>175.699529</td>\n",
       "      <td>123.950978</td>\n",
       "      <td>0.182737</td>\n",
       "    </tr>\n",
       "    <tr>\n",
       "      <th>17</th>\n",
       "      <td>1</td>\n",
       "      <td>30</td>\n",
       "      <td>68136.219918</td>\n",
       "      <td>47045.328041</td>\n",
       "      <td>0.147435</td>\n",
       "    </tr>\n",
       "    <tr>\n",
       "      <th>18</th>\n",
       "      <td>2</td>\n",
       "      <td>30</td>\n",
       "      <td>48111.257506</td>\n",
       "      <td>32147.144913</td>\n",
       "      <td>0.084019</td>\n",
       "    </tr>\n",
       "    <tr>\n",
       "      <th>19</th>\n",
       "      <td>3</td>\n",
       "      <td>30</td>\n",
       "      <td>58282.004645</td>\n",
       "      <td>40650.434167</td>\n",
       "      <td>0.090852</td>\n",
       "    </tr>\n",
       "    <tr>\n",
       "      <th>20</th>\n",
       "      <td>4</td>\n",
       "      <td>30</td>\n",
       "      <td>82016.694242</td>\n",
       "      <td>56039.061110</td>\n",
       "      <td>0.241691</td>\n",
       "    </tr>\n",
       "    <tr>\n",
       "      <th>21</th>\n",
       "      <td>5</td>\n",
       "      <td>30</td>\n",
       "      <td>79009.959223</td>\n",
       "      <td>55846.763627</td>\n",
       "      <td>0.173961</td>\n",
       "    </tr>\n",
       "    <tr>\n",
       "      <th>22</th>\n",
       "      <td>6</td>\n",
       "      <td>30</td>\n",
       "      <td>72318.438061</td>\n",
       "      <td>49108.058232</td>\n",
       "      <td>0.172519</td>\n",
       "    </tr>\n",
       "    <tr>\n",
       "      <th>23</th>\n",
       "      <td>7</td>\n",
       "      <td>30</td>\n",
       "      <td>76663.848226</td>\n",
       "      <td>53801.073451</td>\n",
       "      <td>0.156557</td>\n",
       "    </tr>\n",
       "  </tbody>\n",
       "</table>\n",
       "</div>"
      ],
      "text/plain": [
       "    fold  scale          rmse           mae       rse\n",
       "0      0     10    192.345358    134.640779  0.225799\n",
       "1      1     10    190.100000    133.000000  0.221000\n",
       "2      2     10    185.700000    129.200000  0.212000\n",
       "3      3     10    199.900000    139.100000  0.233000\n",
       "4      4     10    187.400000    132.300000  0.218000\n",
       "5      5     10    193.800000    135.400000  0.226000\n",
       "6      6     10    200.200000    142.100000  0.235000\n",
       "7      7     10    189.300000    132.900000  0.220000\n",
       "8      0     20    182.727411    128.587648  0.203782\n",
       "9      1     20    181.400000    126.200000  0.200000\n",
       "10     2     20    174.200000    122.000000  0.190000\n",
       "11     3     20    186.800000    130.100000  0.208000\n",
       "12     4     20    178.500000    124.500000  0.195000\n",
       "13     5     20    184.900000    128.600000  0.206000\n",
       "14     6     20    192.200000    135.700000  0.214000\n",
       "15     7     20    176.700000    123.300000  0.193000\n",
       "16     0     30    175.699529    123.950978  0.182737\n",
       "17     1     30  68136.219918  47045.328041  0.147435\n",
       "18     2     30  48111.257506  32147.144913  0.084019\n",
       "19     3     30  58282.004645  40650.434167  0.090852\n",
       "20     4     30  82016.694242  56039.061110  0.241691\n",
       "21     5     30  79009.959223  55846.763627  0.173961\n",
       "22     6     30  72318.438061  49108.058232  0.172519\n",
       "23     7     30  76663.848226  53801.073451  0.156557"
      ]
     },
     "metadata": {},
     "output_type": "display_data"
    },
    {
     "name": "stdout",
     "output_type": "stream",
     "text": [
      "Aggregated summary by scale:\n"
     ]
    },
    {
     "data": {
      "application/vnd.microsoft.datawrangler.viewer.v0+json": {
       "columns": [
        {
         "name": "index",
         "rawType": "int64",
         "type": "integer"
        },
        {
         "name": "scale",
         "rawType": "int64",
         "type": "integer"
        },
        {
         "name": "rmse_mean",
         "rawType": "float64",
         "type": "float"
        },
        {
         "name": "rmse_std",
         "rawType": "float64",
         "type": "float"
        },
        {
         "name": "mae_mean",
         "rawType": "float64",
         "type": "float"
        },
        {
         "name": "mae_std",
         "rawType": "float64",
         "type": "float"
        },
        {
         "name": "rse_mean",
         "rawType": "float64",
         "type": "float"
        },
        {
         "name": "rse_std",
         "rawType": "float64",
         "type": "float"
        },
        {
         "name": "fold_count",
         "rawType": "int64",
         "type": "integer"
        }
       ],
       "ref": "35e8521e-fb3c-408c-bdb6-f8d046727e47",
       "rows": [
        [
         "0",
         "10",
         "192.34316980866356",
         "5.395992538537911",
         "134.83009742402737",
         "4.081633152873933",
         "0.2238499280066272",
         "0.007690975733165827",
         "8"
        ],
        [
         "1",
         "20",
         "182.17842634699733",
         "5.822425105285199",
         "127.37345602796432",
         "4.389026440106554",
         "0.20122280800127457",
         "0.008214490321764889",
         "8"
        ],
        [
         "2",
         "30",
         "60589.26516869213",
         "26891.85210921305",
         "41845.226814880145",
         "18732.64982539901",
         "0.15622133755583337",
         "0.05092309668672751",
         "8"
        ]
       ],
       "shape": {
        "columns": 8,
        "rows": 3
       }
      },
      "text/html": [
       "<div>\n",
       "<style scoped>\n",
       "    .dataframe tbody tr th:only-of-type {\n",
       "        vertical-align: middle;\n",
       "    }\n",
       "\n",
       "    .dataframe tbody tr th {\n",
       "        vertical-align: top;\n",
       "    }\n",
       "\n",
       "    .dataframe thead th {\n",
       "        text-align: right;\n",
       "    }\n",
       "</style>\n",
       "<table border=\"1\" class=\"dataframe\">\n",
       "  <thead>\n",
       "    <tr style=\"text-align: right;\">\n",
       "      <th></th>\n",
       "      <th>scale</th>\n",
       "      <th>rmse_mean</th>\n",
       "      <th>rmse_std</th>\n",
       "      <th>mae_mean</th>\n",
       "      <th>mae_std</th>\n",
       "      <th>rse_mean</th>\n",
       "      <th>rse_std</th>\n",
       "      <th>fold_count</th>\n",
       "    </tr>\n",
       "  </thead>\n",
       "  <tbody>\n",
       "    <tr>\n",
       "      <th>0</th>\n",
       "      <td>10</td>\n",
       "      <td>192.343170</td>\n",
       "      <td>5.395993</td>\n",
       "      <td>134.830097</td>\n",
       "      <td>4.081633</td>\n",
       "      <td>0.223850</td>\n",
       "      <td>0.007691</td>\n",
       "      <td>8</td>\n",
       "    </tr>\n",
       "    <tr>\n",
       "      <th>1</th>\n",
       "      <td>20</td>\n",
       "      <td>182.178426</td>\n",
       "      <td>5.822425</td>\n",
       "      <td>127.373456</td>\n",
       "      <td>4.389026</td>\n",
       "      <td>0.201223</td>\n",
       "      <td>0.008214</td>\n",
       "      <td>8</td>\n",
       "    </tr>\n",
       "    <tr>\n",
       "      <th>2</th>\n",
       "      <td>30</td>\n",
       "      <td>60589.265169</td>\n",
       "      <td>26891.852109</td>\n",
       "      <td>41845.226815</td>\n",
       "      <td>18732.649825</td>\n",
       "      <td>0.156221</td>\n",
       "      <td>0.050923</td>\n",
       "      <td>8</td>\n",
       "    </tr>\n",
       "  </tbody>\n",
       "</table>\n",
       "</div>"
      ],
      "text/plain": [
       "   scale     rmse_mean      rmse_std      mae_mean       mae_std  rse_mean  \\\n",
       "0     10    192.343170      5.395993    134.830097      4.081633  0.223850   \n",
       "1     20    182.178426      5.822425    127.373456      4.389026  0.201223   \n",
       "2     30  60589.265169  26891.852109  41845.226815  18732.649825  0.156221   \n",
       "\n",
       "    rse_std  fold_count  \n",
       "0  0.007691           8  \n",
       "1  0.008214           8  \n",
       "2  0.050923           8  "
      ]
     },
     "metadata": {},
     "output_type": "display_data"
    }
   ],
   "source": [
    "print(\"Fold-level evaluation results:\")\n",
    "display(results_df.sort_values([\"scale\", \"fold\"]))\n",
    "\n",
    "print(\"Aggregated summary by scale:\")\n",
    "display(summary_df)"
   ]
  },
  {
   "cell_type": "markdown",
   "id": "62d9e4e5",
   "metadata": {},
   "source": [
    "Here we visualize the trends of each evaluation metric (RMSE, MAE, RSE) with respect to the amount of labeled data."
   ]
  },
  {
   "cell_type": "code",
   "execution_count": 13,
   "id": "244d86d5",
   "metadata": {},
   "outputs": [],
   "source": [
    "def plot_metric(metric_name, y_label):\n",
    "    data = summary_df.copy()\n",
    "\n",
    "    data[\"scale\"] = data[\"scale\"].astype(str)\n",
    "\n",
    "    plt.figure(figsize=(8, 5))\n",
    "\n",
    "    ax = sns.barplot(\n",
    "        data=data,\n",
    "        x=\"scale\",\n",
    "        y=f\"{metric_name}_mean\",\n",
    "        hue=\"scale\",         \n",
    "        palette=\"crest\",\n",
    "        legend=False,\n",
    "        errorbar=None        \n",
    "    )\n",
    "\n",
    "    if len(data) > 1 and f\"{metric_name}_std\" in data.columns:\n",
    "        yerr = data[f\"{metric_name}_std\"].values\n",
    "        for idx, bar in enumerate(ax.patches):\n",
    "            height = bar.get_height()\n",
    "            err = yerr[idx]\n",
    "            ax.errorbar(\n",
    "                x=bar.get_x() + bar.get_width() / 2,\n",
    "                y=height,\n",
    "                yerr=err,\n",
    "                fmt='none',\n",
    "                ecolor='black',\n",
    "                capsize=5,\n",
    "                linewidth=1.5\n",
    "            )\n",
    "\n",
    "    ax.set_title(f\"{metric_name.upper()} vs. % Labeled Data\")\n",
    "    ax.set_xlabel(\"Labeled Data (%)\")\n",
    "    ax.set_ylabel(y_label)\n",
    "\n",
    "    for p in ax.patches:\n",
    "        height = p.get_height()\n",
    "        ax.annotate(f'{height:.1f}', (p.get_x() + p.get_width() / 2, height),\n",
    "                    ha='center', va='bottom', fontsize=9)\n",
    "\n",
    "    plt.tight_layout()\n",
    "    plt.show()\n"
   ]
  },
  {
   "cell_type": "code",
   "execution_count": 14,
   "id": "b2f69cc4",
   "metadata": {},
   "outputs": [
    {
     "data": {
      "image/png": "[encoded data removed]",
      "text/plain": [
       "<Figure size 800x500 with 1 Axes>"
      ]
     },
     "metadata": {},
     "output_type": "display_data"
    },
    {
     "data": {
      "image/png": "[encoded data removed]",
      "text/plain": [
       "<Figure size 800x500 with 1 Axes>"
      ]
     },
     "metadata": {},
     "output_type": "display_data"
    },
    {
     "data": {
      "image/png": "[encoded data removed]",
      "text/plain": [
       "<Figure size 800x500 with 1 Axes>"
      ]
     },
     "metadata": {},
     "output_type": "display_data"
    }
   ],
   "source": [
    "plot_metric(\"rmse\", \"Root Mean Squared Error (RMSE)\")\n",
    "plot_metric(\"mae\", \"Mean Absolute Error (MAE)\")\n",
    "plot_metric(\"rse\", \"Relative Squared Error (RSE)\")"
   ]
  }
 ],
 "metadata": {
  "kernelspec": {
   "display_name": ".venv",
   "language": "python",
   "name": "python3"
  },
  "language_info": {
   "codemirror_mode": {
    "name": "ipython",
    "version": 3
   },
   "file_extension": ".py",
   "mimetype": "text/x-python",
   "name": "python",
   "nbconvert_exporter": "python",
   "pygments_lexer": "ipython3",
   "version": "3.10.0"
  }
 },
 "nbformat": 4,
 "nbformat_minor": 5
}
